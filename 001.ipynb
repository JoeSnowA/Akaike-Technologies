{
 "cells": [
  {
   "cell_type": "markdown",
   "id": "f25ee246",
   "metadata": {},
   "source": [
    "# Structured Data Assessment"
   ]
  },
  {
   "cell_type": "markdown",
   "id": "ece4b994",
   "metadata": {},
   "source": [
    "# Description of the Dataset"
   ]
  },
  {
   "cell_type": "markdown",
   "id": "8350a62e",
   "metadata": {},
   "source": [
    "The dataset in question contains a comprehensive collection of electronic health records belonging to patients who have been diagnosed with a specificdisease. These health records comprise a detailed log of every aspect of the patients' medical history, including all diagnoses, symptoms, prescribed drugtreatments, and medical tests that they have undergone. Each row represents a healthcare record/medical event for a patient and it includes a timestamp for eachentry/event, thereby allowing for a chronological view of the patient's medical history.\n",
    "\n",
    "The Data has mainly three columns are:\n",
    "    1. Patient-Uid - Unique Alphanumeric Identifier for a patient\n",
    "    2. Date - Date when patient encountered the event.\n",
    "    3. Incident - This columns describes which event occurred on the day."
   ]
  },
  {
   "cell_type": "markdown",
   "id": "eb2d32e6",
   "metadata": {},
   "source": [
    "# Problem Statement"
   ]
  },
  {
   "cell_type": "markdown",
   "id": "aaf5b649",
   "metadata": {},
   "source": [
    "The development of drugs is critical in providing therapeutic options\n",
    "for patients suffering from chronic and terminal illnesses. “Target Drug”, in particular,\n",
    "is designed to enhance the patient's health and well-being without causing\n",
    "dependence on other medications that could potentially lead to severe and\n",
    "life-threatening side effects. These drugs are specifically tailored to treat a particular\n",
    "disease or condition, offering a more focused and effective approach to treatment,\n",
    "while minimising the risk of harmful reactions.\n",
    "The objective in this assignment is to develop a predictive model which will predict\n",
    "whether a patient will be eligible*** for “Target Drug” or not in next 30 days. Knowing\n",
    "if the patient is eligible or not will help physician treating the patient make informed\n",
    "decision on the which treatments to give."
   ]
  },
  {
   "cell_type": "markdown",
   "id": "cd4950e2",
   "metadata": {},
   "source": [
    "# Import Necessary Packages"
   ]
  },
  {
   "cell_type": "code",
   "execution_count": 1,
   "id": "c9ff6776",
   "metadata": {},
   "outputs": [],
   "source": [
    "import pandas as pd\n",
    "import warnings"
   ]
  },
  {
   "cell_type": "code",
   "execution_count": 2,
   "id": "38266d0f",
   "metadata": {},
   "outputs": [],
   "source": [
    "warnings.filterwarnings(\"ignore\") #To avoid general warnings\n",
    "pd.set_option(\"display.max_columns\",None) # To display all the columns"
   ]
  },
  {
   "cell_type": "markdown",
   "id": "e999b1d1",
   "metadata": {},
   "source": [
    "# Load the File"
   ]
  },
  {
   "cell_type": "code",
   "execution_count": 3,
   "id": "7f854017",
   "metadata": {
    "scrolled": true
   },
   "outputs": [
    {
     "data": {
      "text/html": [
       "<div>\n",
       "<style scoped>\n",
       "    .dataframe tbody tr th:only-of-type {\n",
       "        vertical-align: middle;\n",
       "    }\n",
       "\n",
       "    .dataframe tbody tr th {\n",
       "        vertical-align: top;\n",
       "    }\n",
       "\n",
       "    .dataframe thead th {\n",
       "        text-align: right;\n",
       "    }\n",
       "</style>\n",
       "<table border=\"1\" class=\"dataframe\">\n",
       "  <thead>\n",
       "    <tr style=\"text-align: right;\">\n",
       "      <th></th>\n",
       "      <th>Patient-Uid</th>\n",
       "      <th>Date</th>\n",
       "      <th>Incident</th>\n",
       "    </tr>\n",
       "  </thead>\n",
       "  <tbody>\n",
       "    <tr>\n",
       "      <th>0</th>\n",
       "      <td>a0db1e73-1c7c-11ec-ae39-16262ee38c7f</td>\n",
       "      <td>2019-03-09</td>\n",
       "      <td>PRIMARY_DIAGNOSIS</td>\n",
       "    </tr>\n",
       "    <tr>\n",
       "      <th>1</th>\n",
       "      <td>a0dc93f2-1c7c-11ec-9cd2-16262ee38c7f</td>\n",
       "      <td>2015-05-16</td>\n",
       "      <td>PRIMARY_DIAGNOSIS</td>\n",
       "    </tr>\n",
       "    <tr>\n",
       "      <th>3</th>\n",
       "      <td>a0dc94c6-1c7c-11ec-a3a0-16262ee38c7f</td>\n",
       "      <td>2018-01-30</td>\n",
       "      <td>SYMPTOM_TYPE_0</td>\n",
       "    </tr>\n",
       "    <tr>\n",
       "      <th>4</th>\n",
       "      <td>a0dc950b-1c7c-11ec-b6ec-16262ee38c7f</td>\n",
       "      <td>2015-04-22</td>\n",
       "      <td>DRUG_TYPE_0</td>\n",
       "    </tr>\n",
       "    <tr>\n",
       "      <th>8</th>\n",
       "      <td>a0dc9543-1c7c-11ec-bb63-16262ee38c7f</td>\n",
       "      <td>2016-06-18</td>\n",
       "      <td>DRUG_TYPE_1</td>\n",
       "    </tr>\n",
       "  </tbody>\n",
       "</table>\n",
       "</div>"
      ],
      "text/plain": [
       "                            Patient-Uid       Date           Incident\n",
       "0  a0db1e73-1c7c-11ec-ae39-16262ee38c7f 2019-03-09  PRIMARY_DIAGNOSIS\n",
       "1  a0dc93f2-1c7c-11ec-9cd2-16262ee38c7f 2015-05-16  PRIMARY_DIAGNOSIS\n",
       "3  a0dc94c6-1c7c-11ec-a3a0-16262ee38c7f 2018-01-30     SYMPTOM_TYPE_0\n",
       "4  a0dc950b-1c7c-11ec-b6ec-16262ee38c7f 2015-04-22        DRUG_TYPE_0\n",
       "8  a0dc9543-1c7c-11ec-bb63-16262ee38c7f 2016-06-18        DRUG_TYPE_1"
      ]
     },
     "execution_count": 3,
     "metadata": {},
     "output_type": "execute_result"
    }
   ],
   "source": [
    "df = pd.read_parquet('train.parquet')\n",
    "df.head()"
   ]
  },
  {
   "cell_type": "markdown",
   "id": "a9ca63a9",
   "metadata": {},
   "source": [
    "# Duplicates?"
   ]
  },
  {
   "cell_type": "code",
   "execution_count": 4,
   "id": "411f45d3",
   "metadata": {},
   "outputs": [
    {
     "data": {
      "text/plain": [
       "35571"
      ]
     },
     "execution_count": 4,
     "metadata": {},
     "output_type": "execute_result"
    }
   ],
   "source": [
    "df.duplicated().sum()"
   ]
  },
  {
   "cell_type": "code",
   "execution_count": 5,
   "id": "24a93e20",
   "metadata": {},
   "outputs": [],
   "source": [
    "df.drop_duplicates(inplace=True) #remove duplicates"
   ]
  },
  {
   "cell_type": "code",
   "execution_count": 6,
   "id": "5b78dbc1",
   "metadata": {},
   "outputs": [],
   "source": [
    "df.reset_index(inplace=True)"
   ]
  },
  {
   "cell_type": "code",
   "execution_count": 7,
   "id": "6c7a00dc",
   "metadata": {},
   "outputs": [
    {
     "data": {
      "text/html": [
       "<div>\n",
       "<style scoped>\n",
       "    .dataframe tbody tr th:only-of-type {\n",
       "        vertical-align: middle;\n",
       "    }\n",
       "\n",
       "    .dataframe tbody tr th {\n",
       "        vertical-align: top;\n",
       "    }\n",
       "\n",
       "    .dataframe thead th {\n",
       "        text-align: right;\n",
       "    }\n",
       "</style>\n",
       "<table border=\"1\" class=\"dataframe\">\n",
       "  <thead>\n",
       "    <tr style=\"text-align: right;\">\n",
       "      <th></th>\n",
       "      <th>Patient-Uid</th>\n",
       "      <th>Date</th>\n",
       "      <th>Incident</th>\n",
       "    </tr>\n",
       "  </thead>\n",
       "  <tbody>\n",
       "    <tr>\n",
       "      <th>0</th>\n",
       "      <td>a0db1e73-1c7c-11ec-ae39-16262ee38c7f</td>\n",
       "      <td>2019-03-09</td>\n",
       "      <td>PRIMARY_DIAGNOSIS</td>\n",
       "    </tr>\n",
       "    <tr>\n",
       "      <th>1</th>\n",
       "      <td>a0dc93f2-1c7c-11ec-9cd2-16262ee38c7f</td>\n",
       "      <td>2015-05-16</td>\n",
       "      <td>PRIMARY_DIAGNOSIS</td>\n",
       "    </tr>\n",
       "    <tr>\n",
       "      <th>2</th>\n",
       "      <td>a0dc94c6-1c7c-11ec-a3a0-16262ee38c7f</td>\n",
       "      <td>2018-01-30</td>\n",
       "      <td>SYMPTOM_TYPE_0</td>\n",
       "    </tr>\n",
       "    <tr>\n",
       "      <th>3</th>\n",
       "      <td>a0dc950b-1c7c-11ec-b6ec-16262ee38c7f</td>\n",
       "      <td>2015-04-22</td>\n",
       "      <td>DRUG_TYPE_0</td>\n",
       "    </tr>\n",
       "    <tr>\n",
       "      <th>4</th>\n",
       "      <td>a0dc9543-1c7c-11ec-bb63-16262ee38c7f</td>\n",
       "      <td>2016-06-18</td>\n",
       "      <td>DRUG_TYPE_1</td>\n",
       "    </tr>\n",
       "  </tbody>\n",
       "</table>\n",
       "</div>"
      ],
      "text/plain": [
       "                            Patient-Uid       Date           Incident\n",
       "0  a0db1e73-1c7c-11ec-ae39-16262ee38c7f 2019-03-09  PRIMARY_DIAGNOSIS\n",
       "1  a0dc93f2-1c7c-11ec-9cd2-16262ee38c7f 2015-05-16  PRIMARY_DIAGNOSIS\n",
       "2  a0dc94c6-1c7c-11ec-a3a0-16262ee38c7f 2018-01-30     SYMPTOM_TYPE_0\n",
       "3  a0dc950b-1c7c-11ec-b6ec-16262ee38c7f 2015-04-22        DRUG_TYPE_0\n",
       "4  a0dc9543-1c7c-11ec-bb63-16262ee38c7f 2016-06-18        DRUG_TYPE_1"
      ]
     },
     "execution_count": 7,
     "metadata": {},
     "output_type": "execute_result"
    }
   ],
   "source": [
    "df.drop(columns='index',inplace=True,axis=1)\n",
    "df.head()"
   ]
  },
  {
   "cell_type": "code",
   "execution_count": 8,
   "id": "9266b611",
   "metadata": {},
   "outputs": [
    {
     "data": {
      "text/html": [
       "<div>\n",
       "<style scoped>\n",
       "    .dataframe tbody tr th:only-of-type {\n",
       "        vertical-align: middle;\n",
       "    }\n",
       "\n",
       "    .dataframe tbody tr th {\n",
       "        vertical-align: top;\n",
       "    }\n",
       "\n",
       "    .dataframe thead th {\n",
       "        text-align: right;\n",
       "    }\n",
       "</style>\n",
       "<table border=\"1\" class=\"dataframe\">\n",
       "  <thead>\n",
       "    <tr style=\"text-align: right;\">\n",
       "      <th></th>\n",
       "      <th>patient-uid</th>\n",
       "      <th>date</th>\n",
       "      <th>incident</th>\n",
       "    </tr>\n",
       "  </thead>\n",
       "  <tbody>\n",
       "    <tr>\n",
       "      <th>0</th>\n",
       "      <td>a0db1e73-1c7c-11ec-ae39-16262ee38c7f</td>\n",
       "      <td>2019-03-09</td>\n",
       "      <td>PRIMARY_DIAGNOSIS</td>\n",
       "    </tr>\n",
       "    <tr>\n",
       "      <th>1</th>\n",
       "      <td>a0dc93f2-1c7c-11ec-9cd2-16262ee38c7f</td>\n",
       "      <td>2015-05-16</td>\n",
       "      <td>PRIMARY_DIAGNOSIS</td>\n",
       "    </tr>\n",
       "    <tr>\n",
       "      <th>2</th>\n",
       "      <td>a0dc94c6-1c7c-11ec-a3a0-16262ee38c7f</td>\n",
       "      <td>2018-01-30</td>\n",
       "      <td>SYMPTOM_TYPE_0</td>\n",
       "    </tr>\n",
       "    <tr>\n",
       "      <th>3</th>\n",
       "      <td>a0dc950b-1c7c-11ec-b6ec-16262ee38c7f</td>\n",
       "      <td>2015-04-22</td>\n",
       "      <td>DRUG_TYPE_0</td>\n",
       "    </tr>\n",
       "    <tr>\n",
       "      <th>4</th>\n",
       "      <td>a0dc9543-1c7c-11ec-bb63-16262ee38c7f</td>\n",
       "      <td>2016-06-18</td>\n",
       "      <td>DRUG_TYPE_1</td>\n",
       "    </tr>\n",
       "  </tbody>\n",
       "</table>\n",
       "</div>"
      ],
      "text/plain": [
       "                            patient-uid       date           incident\n",
       "0  a0db1e73-1c7c-11ec-ae39-16262ee38c7f 2019-03-09  PRIMARY_DIAGNOSIS\n",
       "1  a0dc93f2-1c7c-11ec-9cd2-16262ee38c7f 2015-05-16  PRIMARY_DIAGNOSIS\n",
       "2  a0dc94c6-1c7c-11ec-a3a0-16262ee38c7f 2018-01-30     SYMPTOM_TYPE_0\n",
       "3  a0dc950b-1c7c-11ec-b6ec-16262ee38c7f 2015-04-22        DRUG_TYPE_0\n",
       "4  a0dc9543-1c7c-11ec-bb63-16262ee38c7f 2016-06-18        DRUG_TYPE_1"
      ]
     },
     "execution_count": 8,
     "metadata": {},
     "output_type": "execute_result"
    }
   ],
   "source": [
    "df.columns = df.columns.str.lower() #change all the columns into lowercase\n",
    "df.head()"
   ]
  },
  {
   "cell_type": "code",
   "execution_count": 9,
   "id": "4fff7fd8",
   "metadata": {},
   "outputs": [
    {
     "data": {
      "text/html": [
       "<div>\n",
       "<style scoped>\n",
       "    .dataframe tbody tr th:only-of-type {\n",
       "        vertical-align: middle;\n",
       "    }\n",
       "\n",
       "    .dataframe tbody tr th {\n",
       "        vertical-align: top;\n",
       "    }\n",
       "\n",
       "    .dataframe thead th {\n",
       "        text-align: right;\n",
       "    }\n",
       "</style>\n",
       "<table border=\"1\" class=\"dataframe\">\n",
       "  <thead>\n",
       "    <tr style=\"text-align: right;\">\n",
       "      <th></th>\n",
       "      <th>patient-uid</th>\n",
       "      <th>date</th>\n",
       "      <th>incident</th>\n",
       "    </tr>\n",
       "  </thead>\n",
       "  <tbody>\n",
       "    <tr>\n",
       "      <th>2065342</th>\n",
       "      <td>a0eb742b-1c7c-11ec-8f61-16262ee38c7f</td>\n",
       "      <td>2020-04-09</td>\n",
       "      <td>TARGET DRUG</td>\n",
       "    </tr>\n",
       "    <tr>\n",
       "      <th>2065362</th>\n",
       "      <td>a0edaf09-1c7c-11ec-a360-16262ee38c7f</td>\n",
       "      <td>2018-06-12</td>\n",
       "      <td>TARGET DRUG</td>\n",
       "    </tr>\n",
       "    <tr>\n",
       "      <th>2065502</th>\n",
       "      <td>a0e9fa0e-1c7c-11ec-8dc7-16262ee38c7f</td>\n",
       "      <td>2019-06-11</td>\n",
       "      <td>TARGET DRUG</td>\n",
       "    </tr>\n",
       "    <tr>\n",
       "      <th>2065613</th>\n",
       "      <td>a0ecc615-1c7c-11ec-aa31-16262ee38c7f</td>\n",
       "      <td>2019-11-15</td>\n",
       "      <td>TARGET DRUG</td>\n",
       "    </tr>\n",
       "    <tr>\n",
       "      <th>2065618</th>\n",
       "      <td>a0ea612f-1c7c-11ec-8cf0-16262ee38c7f</td>\n",
       "      <td>2020-03-18</td>\n",
       "      <td>TARGET DRUG</td>\n",
       "    </tr>\n",
       "  </tbody>\n",
       "</table>\n",
       "</div>"
      ],
      "text/plain": [
       "                                  patient-uid       date     incident\n",
       "2065342  a0eb742b-1c7c-11ec-8f61-16262ee38c7f 2020-04-09  TARGET DRUG\n",
       "2065362  a0edaf09-1c7c-11ec-a360-16262ee38c7f 2018-06-12  TARGET DRUG\n",
       "2065502  a0e9fa0e-1c7c-11ec-8dc7-16262ee38c7f 2019-06-11  TARGET DRUG\n",
       "2065613  a0ecc615-1c7c-11ec-aa31-16262ee38c7f 2019-11-15  TARGET DRUG\n",
       "2065618  a0ea612f-1c7c-11ec-8cf0-16262ee38c7f 2020-03-18  TARGET DRUG"
      ]
     },
     "execution_count": 9,
     "metadata": {},
     "output_type": "execute_result"
    }
   ],
   "source": [
    "td_positive_df = df[df['incident']=='TARGET DRUG']\n",
    "td_positive_df.head()"
   ]
  },
  {
   "cell_type": "code",
   "execution_count": 10,
   "id": "b8a43841",
   "metadata": {},
   "outputs": [
    {
     "data": {
      "text/html": [
       "<div>\n",
       "<style scoped>\n",
       "    .dataframe tbody tr th:only-of-type {\n",
       "        vertical-align: middle;\n",
       "    }\n",
       "\n",
       "    .dataframe tbody tr th {\n",
       "        vertical-align: top;\n",
       "    }\n",
       "\n",
       "    .dataframe thead th {\n",
       "        text-align: right;\n",
       "    }\n",
       "</style>\n",
       "<table border=\"1\" class=\"dataframe\">\n",
       "  <thead>\n",
       "    <tr style=\"text-align: right;\">\n",
       "      <th></th>\n",
       "      <th>patient-uid</th>\n",
       "      <th>date</th>\n",
       "      <th>incident</th>\n",
       "    </tr>\n",
       "  </thead>\n",
       "  <tbody>\n",
       "    <tr>\n",
       "      <th>846032</th>\n",
       "      <td>a0e3a8c0-1c7c-11ec-98c2-16262ee38c7f</td>\n",
       "      <td>2018-05-06</td>\n",
       "      <td>PRIMARY_DIAGNOSIS</td>\n",
       "    </tr>\n",
       "    <tr>\n",
       "      <th>878620</th>\n",
       "      <td>a0dd6a3f-1c7c-11ec-9b86-16262ee38c7f</td>\n",
       "      <td>2015-04-07</td>\n",
       "      <td>SYMPTOM_TYPE_0</td>\n",
       "    </tr>\n",
       "    <tr>\n",
       "      <th>882928</th>\n",
       "      <td>a0e48a75-1c7c-11ec-8c5f-16262ee38c7f</td>\n",
       "      <td>2018-08-22</td>\n",
       "      <td>DRUG_TYPE_6</td>\n",
       "    </tr>\n",
       "    <tr>\n",
       "      <th>1053885</th>\n",
       "      <td>a0e3cf61-1c7c-11ec-8098-16262ee38c7f</td>\n",
       "      <td>2018-08-21</td>\n",
       "      <td>DRUG_TYPE_2</td>\n",
       "    </tr>\n",
       "    <tr>\n",
       "      <th>1071734</th>\n",
       "      <td>a0e91a8c-1c7c-11ec-acc2-16262ee38c7f</td>\n",
       "      <td>2020-04-15</td>\n",
       "      <td>PRIMARY_DIAGNOSIS</td>\n",
       "    </tr>\n",
       "    <tr>\n",
       "      <th>...</th>\n",
       "      <td>...</td>\n",
       "      <td>...</td>\n",
       "      <td>...</td>\n",
       "    </tr>\n",
       "    <tr>\n",
       "      <th>1763696</th>\n",
       "      <td>a0e045a1-1c7c-11ec-8014-16262ee38c7f</td>\n",
       "      <td>2020-07-10</td>\n",
       "      <td>PRIMARY_DIAGNOSIS</td>\n",
       "    </tr>\n",
       "    <tr>\n",
       "      <th>1763697</th>\n",
       "      <td>a0e67e2a-1c7c-11ec-b805-16262ee38c7f</td>\n",
       "      <td>2015-12-16</td>\n",
       "      <td>PRIMARY_DIAGNOSIS</td>\n",
       "    </tr>\n",
       "    <tr>\n",
       "      <th>1763698</th>\n",
       "      <td>a0dec400-1c7c-11ec-80df-16262ee38c7f</td>\n",
       "      <td>2019-08-06</td>\n",
       "      <td>PRIMARY_DIAGNOSIS</td>\n",
       "    </tr>\n",
       "    <tr>\n",
       "      <th>1763699</th>\n",
       "      <td>a0e09919-1c7c-11ec-9e7d-16262ee38c7f</td>\n",
       "      <td>2017-02-19</td>\n",
       "      <td>DRUG_TYPE_6</td>\n",
       "    </tr>\n",
       "    <tr>\n",
       "      <th>1763700</th>\n",
       "      <td>a0e69331-1c7c-11ec-a98d-16262ee38c7f</td>\n",
       "      <td>2015-10-03</td>\n",
       "      <td>DRUG_TYPE_6</td>\n",
       "    </tr>\n",
       "  </tbody>\n",
       "</table>\n",
       "<p>17659 rows × 3 columns</p>\n",
       "</div>"
      ],
      "text/plain": [
       "                                  patient-uid       date           incident\n",
       "846032   a0e3a8c0-1c7c-11ec-98c2-16262ee38c7f 2018-05-06  PRIMARY_DIAGNOSIS\n",
       "878620   a0dd6a3f-1c7c-11ec-9b86-16262ee38c7f 2015-04-07     SYMPTOM_TYPE_0\n",
       "882928   a0e48a75-1c7c-11ec-8c5f-16262ee38c7f 2018-08-22        DRUG_TYPE_6\n",
       "1053885  a0e3cf61-1c7c-11ec-8098-16262ee38c7f 2018-08-21        DRUG_TYPE_2\n",
       "1071734  a0e91a8c-1c7c-11ec-acc2-16262ee38c7f 2020-04-15  PRIMARY_DIAGNOSIS\n",
       "...                                       ...        ...                ...\n",
       "1763696  a0e045a1-1c7c-11ec-8014-16262ee38c7f 2020-07-10  PRIMARY_DIAGNOSIS\n",
       "1763697  a0e67e2a-1c7c-11ec-b805-16262ee38c7f 2015-12-16  PRIMARY_DIAGNOSIS\n",
       "1763698  a0dec400-1c7c-11ec-80df-16262ee38c7f 2019-08-06  PRIMARY_DIAGNOSIS\n",
       "1763699  a0e09919-1c7c-11ec-9e7d-16262ee38c7f 2017-02-19        DRUG_TYPE_6\n",
       "1763700  a0e69331-1c7c-11ec-a98d-16262ee38c7f 2015-10-03        DRUG_TYPE_6\n",
       "\n",
       "[17659 rows x 3 columns]"
      ]
     },
     "execution_count": 10,
     "metadata": {},
     "output_type": "execute_result"
    }
   ],
   "source": [
    "#deduct rows of df which is there in positive_df\n",
    "td_negative = df[~df['patient-uid'].isin(td_positive_df['patient-uid'])]\n",
    "#only take last incident of all patients\n",
    "td_negative_df = td_negative.groupby('patient-uid').tail(1)\n",
    "td_negative_df"
   ]
  },
  {
   "cell_type": "code",
   "execution_count": 11,
   "id": "18bd1844",
   "metadata": {},
   "outputs": [],
   "source": [
    "#To get the prev prescription took by patients with time interval\n",
    "td_positive_df['prescription_count'] = td_positive_df.groupby('patient-uid')['date'].cumcount()\n",
    "td_negative_df['prescription_count'] = td_negative_df.groupby('patient-uid')['date'].cumcount()"
   ]
  },
  {
   "cell_type": "code",
   "execution_count": 12,
   "id": "419e0e76",
   "metadata": {},
   "outputs": [
    {
     "data": {
      "text/html": [
       "<div>\n",
       "<style scoped>\n",
       "    .dataframe tbody tr th:only-of-type {\n",
       "        vertical-align: middle;\n",
       "    }\n",
       "\n",
       "    .dataframe tbody tr th {\n",
       "        vertical-align: top;\n",
       "    }\n",
       "\n",
       "    .dataframe thead th {\n",
       "        text-align: right;\n",
       "    }\n",
       "</style>\n",
       "<table border=\"1\" class=\"dataframe\">\n",
       "  <thead>\n",
       "    <tr style=\"text-align: right;\">\n",
       "      <th></th>\n",
       "      <th>patient-uid</th>\n",
       "      <th>date</th>\n",
       "      <th>incident</th>\n",
       "      <th>prescription_count</th>\n",
       "    </tr>\n",
       "  </thead>\n",
       "  <tbody>\n",
       "    <tr>\n",
       "      <th>3185215</th>\n",
       "      <td>a0ef2676-1c7c-11ec-827b-16262ee38c7f</td>\n",
       "      <td>2019-06-12</td>\n",
       "      <td>TARGET DRUG</td>\n",
       "      <td>16</td>\n",
       "    </tr>\n",
       "    <tr>\n",
       "      <th>3185216</th>\n",
       "      <td>a0ebc15d-1c7c-11ec-88d2-16262ee38c7f</td>\n",
       "      <td>2019-11-14</td>\n",
       "      <td>TARGET DRUG</td>\n",
       "      <td>9</td>\n",
       "    </tr>\n",
       "    <tr>\n",
       "      <th>3185222</th>\n",
       "      <td>a0ef2b6d-1c7c-11ec-9172-16262ee38c7f</td>\n",
       "      <td>2018-10-12</td>\n",
       "      <td>TARGET DRUG</td>\n",
       "      <td>4</td>\n",
       "    </tr>\n",
       "    <tr>\n",
       "      <th>3185233</th>\n",
       "      <td>a0ebe423-1c7c-11ec-a5e0-16262ee38c7f</td>\n",
       "      <td>2019-07-02</td>\n",
       "      <td>TARGET DRUG</td>\n",
       "      <td>9</td>\n",
       "    </tr>\n",
       "    <tr>\n",
       "      <th>3185247</th>\n",
       "      <td>a0ebc713-1c7c-11ec-bd53-16262ee38c7f</td>\n",
       "      <td>2019-05-21</td>\n",
       "      <td>TARGET DRUG</td>\n",
       "      <td>10</td>\n",
       "    </tr>\n",
       "    <tr>\n",
       "      <th>3185273</th>\n",
       "      <td>a0ee1bdb-1c7c-11ec-90ba-16262ee38c7f</td>\n",
       "      <td>2018-06-07</td>\n",
       "      <td>TARGET DRUG</td>\n",
       "      <td>14</td>\n",
       "    </tr>\n",
       "    <tr>\n",
       "      <th>3185282</th>\n",
       "      <td>a0eef180-1c7c-11ec-8de8-16262ee38c7f</td>\n",
       "      <td>2018-07-17</td>\n",
       "      <td>TARGET DRUG</td>\n",
       "      <td>13</td>\n",
       "    </tr>\n",
       "  </tbody>\n",
       "</table>\n",
       "</div>"
      ],
      "text/plain": [
       "                                  patient-uid       date     incident  \\\n",
       "3185215  a0ef2676-1c7c-11ec-827b-16262ee38c7f 2019-06-12  TARGET DRUG   \n",
       "3185216  a0ebc15d-1c7c-11ec-88d2-16262ee38c7f 2019-11-14  TARGET DRUG   \n",
       "3185222  a0ef2b6d-1c7c-11ec-9172-16262ee38c7f 2018-10-12  TARGET DRUG   \n",
       "3185233  a0ebe423-1c7c-11ec-a5e0-16262ee38c7f 2019-07-02  TARGET DRUG   \n",
       "3185247  a0ebc713-1c7c-11ec-bd53-16262ee38c7f 2019-05-21  TARGET DRUG   \n",
       "3185273  a0ee1bdb-1c7c-11ec-90ba-16262ee38c7f 2018-06-07  TARGET DRUG   \n",
       "3185282  a0eef180-1c7c-11ec-8de8-16262ee38c7f 2018-07-17  TARGET DRUG   \n",
       "\n",
       "         prescription_count  \n",
       "3185215                  16  \n",
       "3185216                   9  \n",
       "3185222                   4  \n",
       "3185233                   9  \n",
       "3185247                  10  \n",
       "3185273                  14  \n",
       "3185282                  13  "
      ]
     },
     "execution_count": 12,
     "metadata": {},
     "output_type": "execute_result"
    }
   ],
   "source": [
    "td_positive_df.tail(7)"
   ]
  },
  {
   "cell_type": "code",
   "execution_count": 13,
   "id": "eaa9014e",
   "metadata": {},
   "outputs": [
    {
     "data": {
      "text/html": [
       "<div>\n",
       "<style scoped>\n",
       "    .dataframe tbody tr th:only-of-type {\n",
       "        vertical-align: middle;\n",
       "    }\n",
       "\n",
       "    .dataframe tbody tr th {\n",
       "        vertical-align: top;\n",
       "    }\n",
       "\n",
       "    .dataframe thead th {\n",
       "        text-align: right;\n",
       "    }\n",
       "</style>\n",
       "<table border=\"1\" class=\"dataframe\">\n",
       "  <thead>\n",
       "    <tr style=\"text-align: right;\">\n",
       "      <th></th>\n",
       "      <th>patient-uid</th>\n",
       "      <th>date</th>\n",
       "      <th>incident</th>\n",
       "      <th>prescription_count</th>\n",
       "    </tr>\n",
       "  </thead>\n",
       "  <tbody>\n",
       "    <tr>\n",
       "      <th>1763695</th>\n",
       "      <td>a0dfbefd-1c7c-11ec-9b98-16262ee38c7f</td>\n",
       "      <td>2020-05-27</td>\n",
       "      <td>PRIMARY_DIAGNOSIS</td>\n",
       "      <td>0</td>\n",
       "    </tr>\n",
       "    <tr>\n",
       "      <th>1763696</th>\n",
       "      <td>a0e045a1-1c7c-11ec-8014-16262ee38c7f</td>\n",
       "      <td>2020-07-10</td>\n",
       "      <td>PRIMARY_DIAGNOSIS</td>\n",
       "      <td>0</td>\n",
       "    </tr>\n",
       "    <tr>\n",
       "      <th>1763697</th>\n",
       "      <td>a0e67e2a-1c7c-11ec-b805-16262ee38c7f</td>\n",
       "      <td>2015-12-16</td>\n",
       "      <td>PRIMARY_DIAGNOSIS</td>\n",
       "      <td>0</td>\n",
       "    </tr>\n",
       "    <tr>\n",
       "      <th>1763698</th>\n",
       "      <td>a0dec400-1c7c-11ec-80df-16262ee38c7f</td>\n",
       "      <td>2019-08-06</td>\n",
       "      <td>PRIMARY_DIAGNOSIS</td>\n",
       "      <td>0</td>\n",
       "    </tr>\n",
       "    <tr>\n",
       "      <th>1763699</th>\n",
       "      <td>a0e09919-1c7c-11ec-9e7d-16262ee38c7f</td>\n",
       "      <td>2017-02-19</td>\n",
       "      <td>DRUG_TYPE_6</td>\n",
       "      <td>0</td>\n",
       "    </tr>\n",
       "    <tr>\n",
       "      <th>1763700</th>\n",
       "      <td>a0e69331-1c7c-11ec-a98d-16262ee38c7f</td>\n",
       "      <td>2015-10-03</td>\n",
       "      <td>DRUG_TYPE_6</td>\n",
       "      <td>0</td>\n",
       "    </tr>\n",
       "  </tbody>\n",
       "</table>\n",
       "</div>"
      ],
      "text/plain": [
       "                                  patient-uid       date           incident  \\\n",
       "1763695  a0dfbefd-1c7c-11ec-9b98-16262ee38c7f 2020-05-27  PRIMARY_DIAGNOSIS   \n",
       "1763696  a0e045a1-1c7c-11ec-8014-16262ee38c7f 2020-07-10  PRIMARY_DIAGNOSIS   \n",
       "1763697  a0e67e2a-1c7c-11ec-b805-16262ee38c7f 2015-12-16  PRIMARY_DIAGNOSIS   \n",
       "1763698  a0dec400-1c7c-11ec-80df-16262ee38c7f 2019-08-06  PRIMARY_DIAGNOSIS   \n",
       "1763699  a0e09919-1c7c-11ec-9e7d-16262ee38c7f 2017-02-19        DRUG_TYPE_6   \n",
       "1763700  a0e69331-1c7c-11ec-a98d-16262ee38c7f 2015-10-03        DRUG_TYPE_6   \n",
       "\n",
       "         prescription_count  \n",
       "1763695                   0  \n",
       "1763696                   0  \n",
       "1763697                   0  \n",
       "1763698                   0  \n",
       "1763699                   0  \n",
       "1763700                   0  "
      ]
     },
     "execution_count": 13,
     "metadata": {},
     "output_type": "execute_result"
    }
   ],
   "source": [
    "td_negative_df.tail(6)"
   ]
  },
  {
   "cell_type": "code",
   "execution_count": 14,
   "id": "6a354dc0",
   "metadata": {},
   "outputs": [],
   "source": [
    "# calculate the time_interval in days between 30 days from the current date and the maximum date for each patient in two different DataFrames\n",
    "pred_date = pd.to_datetime('today') + pd.DateOffset(days=30)\n",
    "td_positive_df['time_interval'] = (pred_date - td_positive_df.groupby('patient-uid')['date'].transform('max')).dt.days\n",
    "td_negative_df['time_interval'] = (pred_date - td_negative_df.groupby('patient-uid')['date'].transform('max')).dt.days"
   ]
  },
  {
   "cell_type": "code",
   "execution_count": 15,
   "id": "6c63333a",
   "metadata": {},
   "outputs": [
    {
     "data": {
      "text/html": [
       "<div>\n",
       "<style scoped>\n",
       "    .dataframe tbody tr th:only-of-type {\n",
       "        vertical-align: middle;\n",
       "    }\n",
       "\n",
       "    .dataframe tbody tr th {\n",
       "        vertical-align: top;\n",
       "    }\n",
       "\n",
       "    .dataframe thead th {\n",
       "        text-align: right;\n",
       "    }\n",
       "</style>\n",
       "<table border=\"1\" class=\"dataframe\">\n",
       "  <thead>\n",
       "    <tr style=\"text-align: right;\">\n",
       "      <th></th>\n",
       "      <th>patient-uid</th>\n",
       "      <th>date</th>\n",
       "      <th>incident</th>\n",
       "      <th>prescription_count</th>\n",
       "      <th>time_interval</th>\n",
       "    </tr>\n",
       "  </thead>\n",
       "  <tbody>\n",
       "    <tr>\n",
       "      <th>1763696</th>\n",
       "      <td>a0e045a1-1c7c-11ec-8014-16262ee38c7f</td>\n",
       "      <td>2020-07-10</td>\n",
       "      <td>PRIMARY_DIAGNOSIS</td>\n",
       "      <td>0</td>\n",
       "      <td>1231</td>\n",
       "    </tr>\n",
       "    <tr>\n",
       "      <th>1763697</th>\n",
       "      <td>a0e67e2a-1c7c-11ec-b805-16262ee38c7f</td>\n",
       "      <td>2015-12-16</td>\n",
       "      <td>PRIMARY_DIAGNOSIS</td>\n",
       "      <td>0</td>\n",
       "      <td>2899</td>\n",
       "    </tr>\n",
       "    <tr>\n",
       "      <th>1763698</th>\n",
       "      <td>a0dec400-1c7c-11ec-80df-16262ee38c7f</td>\n",
       "      <td>2019-08-06</td>\n",
       "      <td>PRIMARY_DIAGNOSIS</td>\n",
       "      <td>0</td>\n",
       "      <td>1570</td>\n",
       "    </tr>\n",
       "    <tr>\n",
       "      <th>1763699</th>\n",
       "      <td>a0e09919-1c7c-11ec-9e7d-16262ee38c7f</td>\n",
       "      <td>2017-02-19</td>\n",
       "      <td>DRUG_TYPE_6</td>\n",
       "      <td>0</td>\n",
       "      <td>2468</td>\n",
       "    </tr>\n",
       "    <tr>\n",
       "      <th>1763700</th>\n",
       "      <td>a0e69331-1c7c-11ec-a98d-16262ee38c7f</td>\n",
       "      <td>2015-10-03</td>\n",
       "      <td>DRUG_TYPE_6</td>\n",
       "      <td>0</td>\n",
       "      <td>2973</td>\n",
       "    </tr>\n",
       "  </tbody>\n",
       "</table>\n",
       "</div>"
      ],
      "text/plain": [
       "                                  patient-uid       date           incident  \\\n",
       "1763696  a0e045a1-1c7c-11ec-8014-16262ee38c7f 2020-07-10  PRIMARY_DIAGNOSIS   \n",
       "1763697  a0e67e2a-1c7c-11ec-b805-16262ee38c7f 2015-12-16  PRIMARY_DIAGNOSIS   \n",
       "1763698  a0dec400-1c7c-11ec-80df-16262ee38c7f 2019-08-06  PRIMARY_DIAGNOSIS   \n",
       "1763699  a0e09919-1c7c-11ec-9e7d-16262ee38c7f 2017-02-19        DRUG_TYPE_6   \n",
       "1763700  a0e69331-1c7c-11ec-a98d-16262ee38c7f 2015-10-03        DRUG_TYPE_6   \n",
       "\n",
       "         prescription_count  time_interval  \n",
       "1763696                   0           1231  \n",
       "1763697                   0           2899  \n",
       "1763698                   0           1570  \n",
       "1763699                   0           2468  \n",
       "1763700                   0           2973  "
      ]
     },
     "execution_count": 15,
     "metadata": {},
     "output_type": "execute_result"
    }
   ],
   "source": [
    "td_negative_df.tail()"
   ]
  },
  {
   "cell_type": "code",
   "execution_count": 16,
   "id": "647d1067",
   "metadata": {},
   "outputs": [
    {
     "data": {
      "text/html": [
       "<div>\n",
       "<style scoped>\n",
       "    .dataframe tbody tr th:only-of-type {\n",
       "        vertical-align: middle;\n",
       "    }\n",
       "\n",
       "    .dataframe tbody tr th {\n",
       "        vertical-align: top;\n",
       "    }\n",
       "\n",
       "    .dataframe thead th {\n",
       "        text-align: right;\n",
       "    }\n",
       "</style>\n",
       "<table border=\"1\" class=\"dataframe\">\n",
       "  <thead>\n",
       "    <tr style=\"text-align: right;\">\n",
       "      <th></th>\n",
       "      <th>patient-uid</th>\n",
       "      <th>date</th>\n",
       "      <th>incident</th>\n",
       "      <th>prescription_count</th>\n",
       "      <th>time_interval</th>\n",
       "    </tr>\n",
       "  </thead>\n",
       "  <tbody>\n",
       "    <tr>\n",
       "      <th>3185222</th>\n",
       "      <td>a0ef2b6d-1c7c-11ec-9172-16262ee38c7f</td>\n",
       "      <td>2018-10-12</td>\n",
       "      <td>TARGET DRUG</td>\n",
       "      <td>4</td>\n",
       "      <td>1717</td>\n",
       "    </tr>\n",
       "    <tr>\n",
       "      <th>3185233</th>\n",
       "      <td>a0ebe423-1c7c-11ec-a5e0-16262ee38c7f</td>\n",
       "      <td>2019-07-02</td>\n",
       "      <td>TARGET DRUG</td>\n",
       "      <td>9</td>\n",
       "      <td>1213</td>\n",
       "    </tr>\n",
       "    <tr>\n",
       "      <th>3185247</th>\n",
       "      <td>a0ebc713-1c7c-11ec-bd53-16262ee38c7f</td>\n",
       "      <td>2019-05-21</td>\n",
       "      <td>TARGET DRUG</td>\n",
       "      <td>10</td>\n",
       "      <td>1190</td>\n",
       "    </tr>\n",
       "    <tr>\n",
       "      <th>3185273</th>\n",
       "      <td>a0ee1bdb-1c7c-11ec-90ba-16262ee38c7f</td>\n",
       "      <td>2018-06-07</td>\n",
       "      <td>TARGET DRUG</td>\n",
       "      <td>14</td>\n",
       "      <td>1197</td>\n",
       "    </tr>\n",
       "    <tr>\n",
       "      <th>3185282</th>\n",
       "      <td>a0eef180-1c7c-11ec-8de8-16262ee38c7f</td>\n",
       "      <td>2018-07-17</td>\n",
       "      <td>TARGET DRUG</td>\n",
       "      <td>13</td>\n",
       "      <td>1388</td>\n",
       "    </tr>\n",
       "  </tbody>\n",
       "</table>\n",
       "</div>"
      ],
      "text/plain": [
       "                                  patient-uid       date     incident  \\\n",
       "3185222  a0ef2b6d-1c7c-11ec-9172-16262ee38c7f 2018-10-12  TARGET DRUG   \n",
       "3185233  a0ebe423-1c7c-11ec-a5e0-16262ee38c7f 2019-07-02  TARGET DRUG   \n",
       "3185247  a0ebc713-1c7c-11ec-bd53-16262ee38c7f 2019-05-21  TARGET DRUG   \n",
       "3185273  a0ee1bdb-1c7c-11ec-90ba-16262ee38c7f 2018-06-07  TARGET DRUG   \n",
       "3185282  a0eef180-1c7c-11ec-8de8-16262ee38c7f 2018-07-17  TARGET DRUG   \n",
       "\n",
       "         prescription_count  time_interval  \n",
       "3185222                   4           1717  \n",
       "3185233                   9           1213  \n",
       "3185247                  10           1190  \n",
       "3185273                  14           1197  \n",
       "3185282                  13           1388  "
      ]
     },
     "execution_count": 16,
     "metadata": {},
     "output_type": "execute_result"
    }
   ],
   "source": [
    "td_positive_df.tail()"
   ]
  },
  {
   "cell_type": "code",
   "execution_count": 17,
   "id": "ebc4bbfc",
   "metadata": {},
   "outputs": [
    {
     "data": {
      "text/html": [
       "<div>\n",
       "<style scoped>\n",
       "    .dataframe tbody tr th:only-of-type {\n",
       "        vertical-align: middle;\n",
       "    }\n",
       "\n",
       "    .dataframe tbody tr th {\n",
       "        vertical-align: top;\n",
       "    }\n",
       "\n",
       "    .dataframe thead th {\n",
       "        text-align: right;\n",
       "    }\n",
       "</style>\n",
       "<table border=\"1\" class=\"dataframe\">\n",
       "  <thead>\n",
       "    <tr style=\"text-align: right;\">\n",
       "      <th></th>\n",
       "      <th>patient-uid</th>\n",
       "      <th>date</th>\n",
       "      <th>incident</th>\n",
       "      <th>prescription_count</th>\n",
       "      <th>time_interval</th>\n",
       "    </tr>\n",
       "  </thead>\n",
       "  <tbody>\n",
       "    <tr>\n",
       "      <th>2065342</th>\n",
       "      <td>a0eb742b-1c7c-11ec-8f61-16262ee38c7f</td>\n",
       "      <td>2020-04-09</td>\n",
       "      <td>TARGET DRUG</td>\n",
       "      <td>0</td>\n",
       "      <td>1197</td>\n",
       "    </tr>\n",
       "    <tr>\n",
       "      <th>2065362</th>\n",
       "      <td>a0edaf09-1c7c-11ec-a360-16262ee38c7f</td>\n",
       "      <td>2018-06-12</td>\n",
       "      <td>TARGET DRUG</td>\n",
       "      <td>0</td>\n",
       "      <td>1451</td>\n",
       "    </tr>\n",
       "    <tr>\n",
       "      <th>2065502</th>\n",
       "      <td>a0e9fa0e-1c7c-11ec-8dc7-16262ee38c7f</td>\n",
       "      <td>2019-06-11</td>\n",
       "      <td>TARGET DRUG</td>\n",
       "      <td>0</td>\n",
       "      <td>1476</td>\n",
       "    </tr>\n",
       "    <tr>\n",
       "      <th>2065613</th>\n",
       "      <td>a0ecc615-1c7c-11ec-aa31-16262ee38c7f</td>\n",
       "      <td>2019-11-15</td>\n",
       "      <td>TARGET DRUG</td>\n",
       "      <td>0</td>\n",
       "      <td>1181</td>\n",
       "    </tr>\n",
       "    <tr>\n",
       "      <th>2065618</th>\n",
       "      <td>a0ea612f-1c7c-11ec-8cf0-16262ee38c7f</td>\n",
       "      <td>2020-03-18</td>\n",
       "      <td>TARGET DRUG</td>\n",
       "      <td>0</td>\n",
       "      <td>1197</td>\n",
       "    </tr>\n",
       "  </tbody>\n",
       "</table>\n",
       "</div>"
      ],
      "text/plain": [
       "                                  patient-uid       date     incident  \\\n",
       "2065342  a0eb742b-1c7c-11ec-8f61-16262ee38c7f 2020-04-09  TARGET DRUG   \n",
       "2065362  a0edaf09-1c7c-11ec-a360-16262ee38c7f 2018-06-12  TARGET DRUG   \n",
       "2065502  a0e9fa0e-1c7c-11ec-8dc7-16262ee38c7f 2019-06-11  TARGET DRUG   \n",
       "2065613  a0ecc615-1c7c-11ec-aa31-16262ee38c7f 2019-11-15  TARGET DRUG   \n",
       "2065618  a0ea612f-1c7c-11ec-8cf0-16262ee38c7f 2020-03-18  TARGET DRUG   \n",
       "\n",
       "         prescription_count  time_interval  \n",
       "2065342                   0           1197  \n",
       "2065362                   0           1451  \n",
       "2065502                   0           1476  \n",
       "2065613                   0           1181  \n",
       "2065618                   0           1197  "
      ]
     },
     "execution_count": 17,
     "metadata": {},
     "output_type": "execute_result"
    }
   ],
   "source": [
    "Df = pd.concat([td_positive_df,td_negative_df])\n",
    "Df.head()"
   ]
  },
  {
   "cell_type": "markdown",
   "id": "c573e3a3",
   "metadata": {},
   "source": [
    "# Split the data into Train and Test"
   ]
  },
  {
   "cell_type": "code",
   "execution_count": 18,
   "id": "6501cd49",
   "metadata": {},
   "outputs": [],
   "source": [
    "from sklearn.model_selection import train_test_split\n",
    "from sklearn.model_selection import cross_val_score"
   ]
  },
  {
   "cell_type": "code",
   "execution_count": 19,
   "id": "4f6a7de4",
   "metadata": {},
   "outputs": [],
   "source": [
    "X_train,X_test,y_train,y_test = train_test_split(Df[['prescription_count', 'time_interval']], Df['incident'] == 'TARGET DRUG', test_size = 0.25, random_state=50)"
   ]
  },
  {
   "cell_type": "code",
   "execution_count": 20,
   "id": "bc6cc997",
   "metadata": {},
   "outputs": [
    {
     "data": {
      "text/html": [
       "<div>\n",
       "<style scoped>\n",
       "    .dataframe tbody tr th:only-of-type {\n",
       "        vertical-align: middle;\n",
       "    }\n",
       "\n",
       "    .dataframe tbody tr th {\n",
       "        vertical-align: top;\n",
       "    }\n",
       "\n",
       "    .dataframe thead th {\n",
       "        text-align: right;\n",
       "    }\n",
       "</style>\n",
       "<table border=\"1\" class=\"dataframe\">\n",
       "  <thead>\n",
       "    <tr style=\"text-align: right;\">\n",
       "      <th></th>\n",
       "      <th>prescription_count</th>\n",
       "      <th>time_interval</th>\n",
       "    </tr>\n",
       "  </thead>\n",
       "  <tbody>\n",
       "    <tr>\n",
       "      <th>2490278</th>\n",
       "      <td>2</td>\n",
       "      <td>1226</td>\n",
       "    </tr>\n",
       "    <tr>\n",
       "      <th>2598532</th>\n",
       "      <td>7</td>\n",
       "      <td>1199</td>\n",
       "    </tr>\n",
       "    <tr>\n",
       "      <th>1759524</th>\n",
       "      <td>0</td>\n",
       "      <td>1897</td>\n",
       "    </tr>\n",
       "    <tr>\n",
       "      <th>2926426</th>\n",
       "      <td>8</td>\n",
       "      <td>1225</td>\n",
       "    </tr>\n",
       "    <tr>\n",
       "      <th>2882364</th>\n",
       "      <td>9</td>\n",
       "      <td>1199</td>\n",
       "    </tr>\n",
       "  </tbody>\n",
       "</table>\n",
       "</div>"
      ],
      "text/plain": [
       "         prescription_count  time_interval\n",
       "2490278                   2           1226\n",
       "2598532                   7           1199\n",
       "1759524                   0           1897\n",
       "2926426                   8           1225\n",
       "2882364                   9           1199"
      ]
     },
     "execution_count": 20,
     "metadata": {},
     "output_type": "execute_result"
    }
   ],
   "source": [
    "X_train.head()"
   ]
  },
  {
   "cell_type": "markdown",
   "id": "74d333f1",
   "metadata": {},
   "source": [
    "# Machine Learning Models"
   ]
  },
  {
   "cell_type": "code",
   "execution_count": 21,
   "id": "54ff0a1e",
   "metadata": {},
   "outputs": [],
   "source": [
    "from sklearn.ensemble import RandomForestClassifier\n",
    "from xgboost import XGBClassifier\n",
    "from sklearn.metrics import f1_score, roc_auc_score as r_a_s,roc_curve,auc\n",
    "from sklearn.preprocessing import StandardScaler\n",
    "import matplotlib.pyplot as plt"
   ]
  },
  {
   "cell_type": "code",
   "execution_count": 22,
   "id": "00c7f2dd",
   "metadata": {},
   "outputs": [],
   "source": [
    "scaler = StandardScaler()\n",
    "scaler.fit(X_train)\n",
    "X_train_scaled = scaler.transform(X_train)\n",
    "X_test_scaled = scaler.transform(X_test)"
   ]
  },
  {
   "cell_type": "markdown",
   "id": "6f931f6b",
   "metadata": {},
   "source": [
    "# Random Forest"
   ]
  },
  {
   "cell_type": "code",
   "execution_count": 23,
   "id": "687ec50d",
   "metadata": {},
   "outputs": [
    {
     "data": {
      "text/html": [
       "<style>#sk-container-id-1 {color: black;background-color: white;}#sk-container-id-1 pre{padding: 0;}#sk-container-id-1 div.sk-toggleable {background-color: white;}#sk-container-id-1 label.sk-toggleable__label {cursor: pointer;display: block;width: 100%;margin-bottom: 0;padding: 0.3em;box-sizing: border-box;text-align: center;}#sk-container-id-1 label.sk-toggleable__label-arrow:before {content: \"▸\";float: left;margin-right: 0.25em;color: #696969;}#sk-container-id-1 label.sk-toggleable__label-arrow:hover:before {color: black;}#sk-container-id-1 div.sk-estimator:hover label.sk-toggleable__label-arrow:before {color: black;}#sk-container-id-1 div.sk-toggleable__content {max-height: 0;max-width: 0;overflow: hidden;text-align: left;background-color: #f0f8ff;}#sk-container-id-1 div.sk-toggleable__content pre {margin: 0.2em;color: black;border-radius: 0.25em;background-color: #f0f8ff;}#sk-container-id-1 input.sk-toggleable__control:checked~div.sk-toggleable__content {max-height: 200px;max-width: 100%;overflow: auto;}#sk-container-id-1 input.sk-toggleable__control:checked~label.sk-toggleable__label-arrow:before {content: \"▾\";}#sk-container-id-1 div.sk-estimator input.sk-toggleable__control:checked~label.sk-toggleable__label {background-color: #d4ebff;}#sk-container-id-1 div.sk-label input.sk-toggleable__control:checked~label.sk-toggleable__label {background-color: #d4ebff;}#sk-container-id-1 input.sk-hidden--visually {border: 0;clip: rect(1px 1px 1px 1px);clip: rect(1px, 1px, 1px, 1px);height: 1px;margin: -1px;overflow: hidden;padding: 0;position: absolute;width: 1px;}#sk-container-id-1 div.sk-estimator {font-family: monospace;background-color: #f0f8ff;border: 1px dotted black;border-radius: 0.25em;box-sizing: border-box;margin-bottom: 0.5em;}#sk-container-id-1 div.sk-estimator:hover {background-color: #d4ebff;}#sk-container-id-1 div.sk-parallel-item::after {content: \"\";width: 100%;border-bottom: 1px solid gray;flex-grow: 1;}#sk-container-id-1 div.sk-label:hover label.sk-toggleable__label {background-color: #d4ebff;}#sk-container-id-1 div.sk-serial::before {content: \"\";position: absolute;border-left: 1px solid gray;box-sizing: border-box;top: 0;bottom: 0;left: 50%;z-index: 0;}#sk-container-id-1 div.sk-serial {display: flex;flex-direction: column;align-items: center;background-color: white;padding-right: 0.2em;padding-left: 0.2em;position: relative;}#sk-container-id-1 div.sk-item {position: relative;z-index: 1;}#sk-container-id-1 div.sk-parallel {display: flex;align-items: stretch;justify-content: center;background-color: white;position: relative;}#sk-container-id-1 div.sk-item::before, #sk-container-id-1 div.sk-parallel-item::before {content: \"\";position: absolute;border-left: 1px solid gray;box-sizing: border-box;top: 0;bottom: 0;left: 50%;z-index: -1;}#sk-container-id-1 div.sk-parallel-item {display: flex;flex-direction: column;z-index: 1;position: relative;background-color: white;}#sk-container-id-1 div.sk-parallel-item:first-child::after {align-self: flex-end;width: 50%;}#sk-container-id-1 div.sk-parallel-item:last-child::after {align-self: flex-start;width: 50%;}#sk-container-id-1 div.sk-parallel-item:only-child::after {width: 0;}#sk-container-id-1 div.sk-dashed-wrapped {border: 1px dashed gray;margin: 0 0.4em 0.5em 0.4em;box-sizing: border-box;padding-bottom: 0.4em;background-color: white;}#sk-container-id-1 div.sk-label label {font-family: monospace;font-weight: bold;display: inline-block;line-height: 1.2em;}#sk-container-id-1 div.sk-label-container {text-align: center;}#sk-container-id-1 div.sk-container {/* jupyter's `normalize.less` sets `[hidden] { display: none; }` but bootstrap.min.css set `[hidden] { display: none !important; }` so we also need the `!important` here to be able to override the default hidden behavior on the sphinx rendered scikit-learn.org. See: https://github.com/scikit-learn/scikit-learn/issues/21755 */display: inline-block !important;position: relative;}#sk-container-id-1 div.sk-text-repr-fallback {display: none;}</style><div id=\"sk-container-id-1\" class=\"sk-top-container\"><div class=\"sk-text-repr-fallback\"><pre>RandomForestClassifier(random_state=50)</pre><b>In a Jupyter environment, please rerun this cell to show the HTML representation or trust the notebook. <br />On GitHub, the HTML representation is unable to render, please try loading this page with nbviewer.org.</b></div><div class=\"sk-container\" hidden><div class=\"sk-item\"><div class=\"sk-estimator sk-toggleable\"><input class=\"sk-toggleable__control sk-hidden--visually\" id=\"sk-estimator-id-1\" type=\"checkbox\" checked><label for=\"sk-estimator-id-1\" class=\"sk-toggleable__label sk-toggleable__label-arrow\">RandomForestClassifier</label><div class=\"sk-toggleable__content\"><pre>RandomForestClassifier(random_state=50)</pre></div></div></div></div></div>"
      ],
      "text/plain": [
       "RandomForestClassifier(random_state=50)"
      ]
     },
     "execution_count": 23,
     "metadata": {},
     "output_type": "execute_result"
    }
   ],
   "source": [
    "from sklearn.ensemble import RandomForestClassifier\n",
    "import numpy as np\n",
    "\n",
    "rf_classifier=RandomForestClassifier(random_state=50)\n",
    "rf_classifier.fit(X_train,y_train)"
   ]
  },
  {
   "cell_type": "code",
   "execution_count": 24,
   "id": "564f7ab1",
   "metadata": {},
   "outputs": [],
   "source": [
    "prediction_y = rf_classifier.predict(X_test)"
   ]
  },
  {
   "cell_type": "code",
   "execution_count": 25,
   "id": "eca2d3ac",
   "metadata": {},
   "outputs": [
    {
     "name": "stdout",
     "output_type": "stream",
     "text": [
      "0.9596326420360757\n"
     ]
    }
   ],
   "source": [
    "F1_rf = f1_score(y_test,prediction_y)\n",
    "print(F1_rf)"
   ]
  },
  {
   "cell_type": "code",
   "execution_count": 26,
   "id": "3ee57644",
   "metadata": {},
   "outputs": [
    {
     "name": "stdout",
     "output_type": "stream",
     "text": [
      "Depth :  2 cross_val_score :  0.9408077535108185\n",
      "Depth :  4 cross_val_score :  0.9408077609152262\n",
      "Depth :  8 cross_val_score :  0.9415460877367531\n",
      "Depth :  10 cross_val_score :  0.9422687135115412\n",
      "Depth :  11 cross_val_score :  0.9422844478781153\n",
      "Depth :  12 cross_val_score :  0.9422530346780255\n",
      "Depth :  13 cross_val_score :  0.9421116512132975\n",
      "Depth :  15 cross_val_score :  0.9425357905008706\n",
      "Depth :  18 cross_val_score :  0.9414832835497975\n",
      "Depth :  20 cross_val_score :  0.9409962623289868\n"
     ]
    }
   ],
   "source": [
    "max_depth=np.array([2,4,8,10,11,12,13,15,18,20])\n",
    "cross_val_rf=[]\n",
    "for d in max_depth:\n",
    "    rf_classifier=RandomForestClassifier(max_depth=d, random_state=0)\n",
    "    rf_classifier.fit(X_train,y_train)\n",
    "    print(\"Depth : \", d, \"cross_val_score : \", cross_val_score(rf_classifier,X_train,y_train,cv = 15).mean())\n",
    "    cross_val_rf.append(cross_val_score(rf_classifier,X_train,y_train,cv = 15).mean())"
   ]
  },
  {
   "cell_type": "code",
   "execution_count": 27,
   "id": "ef055186",
   "metadata": {},
   "outputs": [
    {
     "data": {
      "text/plain": [
       "0.9100801435406698"
      ]
     },
     "execution_count": 27,
     "metadata": {},
     "output_type": "execute_result"
    }
   ],
   "source": [
    "r_a_s_rf = r_a_s(y_test,prediction_y)\n",
    "r_a_s_rf"
   ]
  },
  {
   "cell_type": "code",
   "execution_count": 28,
   "id": "0eb60f40",
   "metadata": {},
   "outputs": [
    {
     "data": {
      "image/png": "[encoded data removed]",
      "text/plain": [
       "<Figure size 640x480 with 1 Axes>"
      ]
     },
     "metadata": {},
     "output_type": "display_data"
    },
    {
     "name": "stdout",
     "output_type": "stream",
     "text": [
      "Random Forest roc_auc Score: 0.9100801435406698\n"
     ]
    }
   ],
   "source": [
    "#roc_auc curve\n",
    "\n",
    "fpr,tpr, thresold = roc_curve(y_test, prediction_y)\n",
    "roc_auc = auc(fpr,tpr)\n",
    "plt.plot(fpr,tpr, label = 'AUC = %0.3f' % roc_auc)\n",
    "plt.plot([0,1],[0,1],'k--')\n",
    "plt.title('Random Forest ROC_AUC curve')\n",
    "plt.legend(loc='lower right')\n",
    "plt.xlabel('False positive rate')\n",
    "plt.ylabel('True positive rate')\n",
    "plt.show()\n",
    "\n",
    "\n",
    "r_a_s_rf = r_a_s(y_test, prediction_y)\n",
    "print(\"Random Forest roc_auc Score:\", r_a_s_rf)"
   ]
  },
  {
   "cell_type": "code",
   "execution_count": 29,
   "id": "cf5be55f",
   "metadata": {},
   "outputs": [
    {
     "name": "stdout",
     "output_type": "stream",
     "text": [
      "F1 score of Random Forest Classifier is :  0.9596326420360757\n",
      "roc_auc_score of Random Forest Classifier is :  0.9100801435406698\n",
      "The best depth is 15 and the Cross_Val_Score is:  0.9425357905008706\n"
     ]
    }
   ],
   "source": [
    "print('F1 score of Random Forest Classifier is : ',F1_rf)\n",
    "print('roc_auc_score of Random Forest Classifier is : ',r_a_s_rf)\n",
    "print('The best depth is 15 and the Cross_Val_Score is: ', max(cross_val_rf))"
   ]
  },
  {
   "cell_type": "markdown",
   "id": "7bc1e25d",
   "metadata": {},
   "source": [
    "# Extreme Gradiant Boosting Classification"
   ]
  },
  {
   "cell_type": "code",
   "execution_count": 30,
   "id": "e38c3a5f",
   "metadata": {},
   "outputs": [
    {
     "data": {
      "text/html": [
       "<style>#sk-container-id-2 {color: black;background-color: white;}#sk-container-id-2 pre{padding: 0;}#sk-container-id-2 div.sk-toggleable {background-color: white;}#sk-container-id-2 label.sk-toggleable__label {cursor: pointer;display: block;width: 100%;margin-bottom: 0;padding: 0.3em;box-sizing: border-box;text-align: center;}#sk-container-id-2 label.sk-toggleable__label-arrow:before {content: \"▸\";float: left;margin-right: 0.25em;color: #696969;}#sk-container-id-2 label.sk-toggleable__label-arrow:hover:before {color: black;}#sk-container-id-2 div.sk-estimator:hover label.sk-toggleable__label-arrow:before {color: black;}#sk-container-id-2 div.sk-toggleable__content {max-height: 0;max-width: 0;overflow: hidden;text-align: left;background-color: #f0f8ff;}#sk-container-id-2 div.sk-toggleable__content pre {margin: 0.2em;color: black;border-radius: 0.25em;background-color: #f0f8ff;}#sk-container-id-2 input.sk-toggleable__control:checked~div.sk-toggleable__content {max-height: 200px;max-width: 100%;overflow: auto;}#sk-container-id-2 input.sk-toggleable__control:checked~label.sk-toggleable__label-arrow:before {content: \"▾\";}#sk-container-id-2 div.sk-estimator input.sk-toggleable__control:checked~label.sk-toggleable__label {background-color: #d4ebff;}#sk-container-id-2 div.sk-label input.sk-toggleable__control:checked~label.sk-toggleable__label {background-color: #d4ebff;}#sk-container-id-2 input.sk-hidden--visually {border: 0;clip: rect(1px 1px 1px 1px);clip: rect(1px, 1px, 1px, 1px);height: 1px;margin: -1px;overflow: hidden;padding: 0;position: absolute;width: 1px;}#sk-container-id-2 div.sk-estimator {font-family: monospace;background-color: #f0f8ff;border: 1px dotted black;border-radius: 0.25em;box-sizing: border-box;margin-bottom: 0.5em;}#sk-container-id-2 div.sk-estimator:hover {background-color: #d4ebff;}#sk-container-id-2 div.sk-parallel-item::after {content: \"\";width: 100%;border-bottom: 1px solid gray;flex-grow: 1;}#sk-container-id-2 div.sk-label:hover label.sk-toggleable__label {background-color: #d4ebff;}#sk-container-id-2 div.sk-serial::before {content: \"\";position: absolute;border-left: 1px solid gray;box-sizing: border-box;top: 0;bottom: 0;left: 50%;z-index: 0;}#sk-container-id-2 div.sk-serial {display: flex;flex-direction: column;align-items: center;background-color: white;padding-right: 0.2em;padding-left: 0.2em;position: relative;}#sk-container-id-2 div.sk-item {position: relative;z-index: 1;}#sk-container-id-2 div.sk-parallel {display: flex;align-items: stretch;justify-content: center;background-color: white;position: relative;}#sk-container-id-2 div.sk-item::before, #sk-container-id-2 div.sk-parallel-item::before {content: \"\";position: absolute;border-left: 1px solid gray;box-sizing: border-box;top: 0;bottom: 0;left: 50%;z-index: -1;}#sk-container-id-2 div.sk-parallel-item {display: flex;flex-direction: column;z-index: 1;position: relative;background-color: white;}#sk-container-id-2 div.sk-parallel-item:first-child::after {align-self: flex-end;width: 50%;}#sk-container-id-2 div.sk-parallel-item:last-child::after {align-self: flex-start;width: 50%;}#sk-container-id-2 div.sk-parallel-item:only-child::after {width: 0;}#sk-container-id-2 div.sk-dashed-wrapped {border: 1px dashed gray;margin: 0 0.4em 0.5em 0.4em;box-sizing: border-box;padding-bottom: 0.4em;background-color: white;}#sk-container-id-2 div.sk-label label {font-family: monospace;font-weight: bold;display: inline-block;line-height: 1.2em;}#sk-container-id-2 div.sk-label-container {text-align: center;}#sk-container-id-2 div.sk-container {/* jupyter's `normalize.less` sets `[hidden] { display: none; }` but bootstrap.min.css set `[hidden] { display: none !important; }` so we also need the `!important` here to be able to override the default hidden behavior on the sphinx rendered scikit-learn.org. See: https://github.com/scikit-learn/scikit-learn/issues/21755 */display: inline-block !important;position: relative;}#sk-container-id-2 div.sk-text-repr-fallback {display: none;}</style><div id=\"sk-container-id-2\" class=\"sk-top-container\"><div class=\"sk-text-repr-fallback\"><pre>XGBClassifier(base_score=None, booster=None, callbacks=None,\n",
       "              colsample_bylevel=None, colsample_bynode=None,\n",
       "              colsample_bytree=None, device=None, early_stopping_rounds=None,\n",
       "              enable_categorical=False, eval_metric=None, feature_types=None,\n",
       "              gamma=None, grow_policy=None, importance_type=None,\n",
       "              interaction_constraints=None, learning_rate=None, max_bin=None,\n",
       "              max_cat_threshold=None, max_cat_to_onehot=None,\n",
       "              max_delta_step=None, max_depth=None, max_leaves=None,\n",
       "              min_child_weight=None, missing=nan, monotone_constraints=None,\n",
       "              multi_strategy=None, n_estimators=None, n_jobs=None,\n",
       "              num_parallel_tree=None, random_state=56, ...)</pre><b>In a Jupyter environment, please rerun this cell to show the HTML representation or trust the notebook. <br />On GitHub, the HTML representation is unable to render, please try loading this page with nbviewer.org.</b></div><div class=\"sk-container\" hidden><div class=\"sk-item\"><div class=\"sk-estimator sk-toggleable\"><input class=\"sk-toggleable__control sk-hidden--visually\" id=\"sk-estimator-id-2\" type=\"checkbox\" checked><label for=\"sk-estimator-id-2\" class=\"sk-toggleable__label sk-toggleable__label-arrow\">XGBClassifier</label><div class=\"sk-toggleable__content\"><pre>XGBClassifier(base_score=None, booster=None, callbacks=None,\n",
       "              colsample_bylevel=None, colsample_bynode=None,\n",
       "              colsample_bytree=None, device=None, early_stopping_rounds=None,\n",
       "              enable_categorical=False, eval_metric=None, feature_types=None,\n",
       "              gamma=None, grow_policy=None, importance_type=None,\n",
       "              interaction_constraints=None, learning_rate=None, max_bin=None,\n",
       "              max_cat_threshold=None, max_cat_to_onehot=None,\n",
       "              max_delta_step=None, max_depth=None, max_leaves=None,\n",
       "              min_child_weight=None, missing=nan, monotone_constraints=None,\n",
       "              multi_strategy=None, n_estimators=None, n_jobs=None,\n",
       "              num_parallel_tree=None, random_state=56, ...)</pre></div></div></div></div></div>"
      ],
      "text/plain": [
       "XGBClassifier(base_score=None, booster=None, callbacks=None,\n",
       "              colsample_bylevel=None, colsample_bynode=None,\n",
       "              colsample_bytree=None, device=None, early_stopping_rounds=None,\n",
       "              enable_categorical=False, eval_metric=None, feature_types=None,\n",
       "              gamma=None, grow_policy=None, importance_type=None,\n",
       "              interaction_constraints=None, learning_rate=None, max_bin=None,\n",
       "              max_cat_threshold=None, max_cat_to_onehot=None,\n",
       "              max_delta_step=None, max_depth=None, max_leaves=None,\n",
       "              min_child_weight=None, missing=nan, monotone_constraints=None,\n",
       "              multi_strategy=None, n_estimators=None, n_jobs=None,\n",
       "              num_parallel_tree=None, random_state=56, ...)"
      ]
     },
     "execution_count": 30,
     "metadata": {},
     "output_type": "execute_result"
    }
   ],
   "source": [
    "xgb_classifier =XGBClassifier(random_state = 56)\n",
    "xgb_classifier.fit(X_train,y_train)"
   ]
  },
  {
   "cell_type": "code",
   "execution_count": 31,
   "id": "498d749d",
   "metadata": {},
   "outputs": [],
   "source": [
    "prediction_y_ = xgb_classifier.predict(X_test)"
   ]
  },
  {
   "cell_type": "code",
   "execution_count": 32,
   "id": "018782cb",
   "metadata": {},
   "outputs": [],
   "source": [
    "F1_xg = f1_score(y_test,prediction_y_)"
   ]
  },
  {
   "cell_type": "code",
   "execution_count": 33,
   "id": "54ace664",
   "metadata": {},
   "outputs": [
    {
     "data": {
      "text/plain": [
       "0.9301330409356725"
      ]
     },
     "execution_count": 33,
     "metadata": {},
     "output_type": "execute_result"
    }
   ],
   "source": [
    "r_a_s_xg = r_a_s(y_test,prediction_y_)\n",
    "r_a_s_xg"
   ]
  },
  {
   "cell_type": "code",
   "execution_count": 34,
   "id": "4b8ee499",
   "metadata": {},
   "outputs": [
    {
     "data": {
      "image/png": "[encoded data removed]",
      "text/plain": [
       "<Figure size 640x480 with 1 Axes>"
      ]
     },
     "metadata": {},
     "output_type": "display_data"
    },
    {
     "name": "stdout",
     "output_type": "stream",
     "text": [
      "XG Boost roc_auc Score: 0.9301330409356725\n"
     ]
    }
   ],
   "source": [
    "#roc_auc curve\n",
    "\n",
    "fpr,tpr, thresold = roc_curve(y_test, prediction_y_)\n",
    "roc_auc = auc(fpr,tpr)\n",
    "plt.plot(fpr,tpr, label = 'AUC = %0.3f' % roc_auc)\n",
    "plt.plot([0,1],[0,1],'k--')\n",
    "plt.title('XGB ROC_AUC curve')\n",
    "plt.legend(loc='lower right')\n",
    "plt.xlabel('False positive rate')\n",
    "plt.ylabel('True positive rate')\n",
    "plt.show()\n",
    "\n",
    "\n",
    "r_a_s_xg = r_a_s(y_test, prediction_y_)\n",
    "print(\"XG Boost roc_auc Score:\", r_a_s_xg)"
   ]
  },
  {
   "cell_type": "code",
   "execution_count": 35,
   "id": "ee3810de",
   "metadata": {},
   "outputs": [
    {
     "name": "stdout",
     "output_type": "stream",
     "text": [
      "Learning rate :  0.01 cross_val_score: 0.9336285692855242\n",
      "Learning rate :  0.05 cross_val_score: 0.9409805612822482\n",
      "Learning rate :  0.08 cross_val_score: 0.9410119670779298\n",
      "Learning rate :  0.1 cross_val_score: 0.9410904982270516\n",
      "Learning rate :  0.2 cross_val_score: 0.9414675565876315\n",
      "Learning rate :  0.25 cross_val_score: 0.9414204164253756\n",
      "Learning rate :  0.3 cross_val_score: 0.9413732910719355\n"
     ]
    }
   ],
   "source": [
    "cross_val_xgb=[]\n",
    "for lr in [0.01,0.05,0.08,0.1,0.2,0.25,0.3]:\n",
    "    xgb_classifier = XGBClassifier(learning_rate = lr,n_estimators=100)\n",
    "    xgb_classifier.fit(X_train,y_train)\n",
    "    print(\"Learning rate : \", lr,\"cross_val_score:\", cross_val_score(xgb_classifier,X_train,y_train,cv = 15).mean())\n",
    "    cross_val_xgb.append(cross_val_score(xgb_classifier,X_train,y_train,cv = 15).mean())"
   ]
  },
  {
   "cell_type": "code",
   "execution_count": 36,
   "id": "9bbb84cc",
   "metadata": {},
   "outputs": [
    {
     "name": "stdout",
     "output_type": "stream",
     "text": [
      "The best Learning rate is 0.2 and Cross_val_score is: 0.9414675565876315\n"
     ]
    }
   ],
   "source": [
    "cross_val_xgb_classifier=max(cross_val_xgb)\n",
    "print(\"The best Learning rate is 0.2 and Cross_val_score is:\",cross_val_xgb_classifier)"
   ]
  },
  {
   "cell_type": "code",
   "execution_count": 37,
   "id": "d4e3082b",
   "metadata": {},
   "outputs": [
    {
     "name": "stdout",
     "output_type": "stream",
     "text": [
      "F1 score of XG Boost classifier is :  0.9611391098427348\n",
      "roc_auc_score of XG Boost classifier is :  0.9301330409356725\n"
     ]
    }
   ],
   "source": [
    "print('F1 score of XG Boost classifier is : ',F1_xg)\n",
    "print('roc_auc_score of XG Boost classifier is : ',r_a_s_xg)"
   ]
  },
  {
   "cell_type": "markdown",
   "id": "03c869df",
   "metadata": {},
   "source": [
    "# F1 Score "
   ]
  },
  {
   "cell_type": "code",
   "execution_count": 38,
   "id": "e378b3b0",
   "metadata": {},
   "outputs": [
    {
     "name": "stdout",
     "output_type": "stream",
     "text": [
      "The F1 score of Random Forest Classifier is:  0.9596326420360757\n",
      "The F1 score of XG Boost classifier is:  0.9611391098427348\n"
     ]
    }
   ],
   "source": [
    "print('The F1 score of Random Forest Classifier is: ',F1_rf)\n",
    "print('The F1 score of XG Boost classifier is: ',F1_xg)"
   ]
  },
  {
   "cell_type": "markdown",
   "id": "d13bcbbc",
   "metadata": {},
   "source": [
    "# roc_auc_score"
   ]
  },
  {
   "cell_type": "code",
   "execution_count": 39,
   "id": "7e0aaf28",
   "metadata": {},
   "outputs": [
    {
     "name": "stdout",
     "output_type": "stream",
     "text": [
      "roc_auc_score of Random Forest Classifier is:  0.9100801435406698\n",
      "roc_auc_score of XG Boost classifier is:  0.9301330409356725\n"
     ]
    }
   ],
   "source": [
    "print('roc_auc_score of Random Forest Classifier is: ',r_a_s_rf)\n",
    "print('roc_auc_score of XG Boost classifier is: ',r_a_s_xg)\n"
   ]
  },
  {
   "cell_type": "markdown",
   "id": "ecd49b00",
   "metadata": {},
   "source": [
    "# Test_File"
   ]
  },
  {
   "cell_type": "code",
   "execution_count": 40,
   "id": "8d684e0a",
   "metadata": {},
   "outputs": [
    {
     "data": {
      "text/html": [
       "<div>\n",
       "<style scoped>\n",
       "    .dataframe tbody tr th:only-of-type {\n",
       "        vertical-align: middle;\n",
       "    }\n",
       "\n",
       "    .dataframe tbody tr th {\n",
       "        vertical-align: top;\n",
       "    }\n",
       "\n",
       "    .dataframe thead th {\n",
       "        text-align: right;\n",
       "    }\n",
       "</style>\n",
       "<table border=\"1\" class=\"dataframe\">\n",
       "  <thead>\n",
       "    <tr style=\"text-align: right;\">\n",
       "      <th></th>\n",
       "      <th>Patient-Uid</th>\n",
       "      <th>Date</th>\n",
       "      <th>Incident</th>\n",
       "    </tr>\n",
       "  </thead>\n",
       "  <tbody>\n",
       "    <tr>\n",
       "      <th>0</th>\n",
       "      <td>a0f9e8a9-1c7c-11ec-8d25-16262ee38c7f</td>\n",
       "      <td>2016-12-08</td>\n",
       "      <td>SYMPTOM_TYPE_0</td>\n",
       "    </tr>\n",
       "    <tr>\n",
       "      <th>1</th>\n",
       "      <td>a0f9e8a9-1c7c-11ec-8d25-16262ee38c7f</td>\n",
       "      <td>2018-10-17</td>\n",
       "      <td>DRUG_TYPE_0</td>\n",
       "    </tr>\n",
       "    <tr>\n",
       "      <th>2</th>\n",
       "      <td>a0f9e8a9-1c7c-11ec-8d25-16262ee38c7f</td>\n",
       "      <td>2017-12-01</td>\n",
       "      <td>DRUG_TYPE_2</td>\n",
       "    </tr>\n",
       "    <tr>\n",
       "      <th>3</th>\n",
       "      <td>a0f9e8a9-1c7c-11ec-8d25-16262ee38c7f</td>\n",
       "      <td>2018-12-05</td>\n",
       "      <td>DRUG_TYPE_1</td>\n",
       "    </tr>\n",
       "    <tr>\n",
       "      <th>4</th>\n",
       "      <td>a0f9e8a9-1c7c-11ec-8d25-16262ee38c7f</td>\n",
       "      <td>2017-11-04</td>\n",
       "      <td>SYMPTOM_TYPE_0</td>\n",
       "    </tr>\n",
       "    <tr>\n",
       "      <th>...</th>\n",
       "      <td>...</td>\n",
       "      <td>...</td>\n",
       "      <td>...</td>\n",
       "    </tr>\n",
       "    <tr>\n",
       "      <th>1372854</th>\n",
       "      <td>a10272c9-1c7c-11ec-b3ce-16262ee38c7f</td>\n",
       "      <td>2017-05-11</td>\n",
       "      <td>DRUG_TYPE_13</td>\n",
       "    </tr>\n",
       "    <tr>\n",
       "      <th>1372856</th>\n",
       "      <td>a10272c9-1c7c-11ec-b3ce-16262ee38c7f</td>\n",
       "      <td>2018-08-22</td>\n",
       "      <td>DRUG_TYPE_2</td>\n",
       "    </tr>\n",
       "    <tr>\n",
       "      <th>1372857</th>\n",
       "      <td>a10272c9-1c7c-11ec-b3ce-16262ee38c7f</td>\n",
       "      <td>2017-02-04</td>\n",
       "      <td>DRUG_TYPE_2</td>\n",
       "    </tr>\n",
       "    <tr>\n",
       "      <th>1372858</th>\n",
       "      <td>a10272c9-1c7c-11ec-b3ce-16262ee38c7f</td>\n",
       "      <td>2017-09-25</td>\n",
       "      <td>DRUG_TYPE_8</td>\n",
       "    </tr>\n",
       "    <tr>\n",
       "      <th>1372859</th>\n",
       "      <td>a10272c9-1c7c-11ec-b3ce-16262ee38c7f</td>\n",
       "      <td>2017-05-19</td>\n",
       "      <td>DRUG_TYPE_7</td>\n",
       "    </tr>\n",
       "  </tbody>\n",
       "</table>\n",
       "<p>1065524 rows × 3 columns</p>\n",
       "</div>"
      ],
      "text/plain": [
       "                                  Patient-Uid       Date        Incident\n",
       "0        a0f9e8a9-1c7c-11ec-8d25-16262ee38c7f 2016-12-08  SYMPTOM_TYPE_0\n",
       "1        a0f9e8a9-1c7c-11ec-8d25-16262ee38c7f 2018-10-17     DRUG_TYPE_0\n",
       "2        a0f9e8a9-1c7c-11ec-8d25-16262ee38c7f 2017-12-01     DRUG_TYPE_2\n",
       "3        a0f9e8a9-1c7c-11ec-8d25-16262ee38c7f 2018-12-05     DRUG_TYPE_1\n",
       "4        a0f9e8a9-1c7c-11ec-8d25-16262ee38c7f 2017-11-04  SYMPTOM_TYPE_0\n",
       "...                                       ...        ...             ...\n",
       "1372854  a10272c9-1c7c-11ec-b3ce-16262ee38c7f 2017-05-11    DRUG_TYPE_13\n",
       "1372856  a10272c9-1c7c-11ec-b3ce-16262ee38c7f 2018-08-22     DRUG_TYPE_2\n",
       "1372857  a10272c9-1c7c-11ec-b3ce-16262ee38c7f 2017-02-04     DRUG_TYPE_2\n",
       "1372858  a10272c9-1c7c-11ec-b3ce-16262ee38c7f 2017-09-25     DRUG_TYPE_8\n",
       "1372859  a10272c9-1c7c-11ec-b3ce-16262ee38c7f 2017-05-19     DRUG_TYPE_7\n",
       "\n",
       "[1065524 rows x 3 columns]"
      ]
     },
     "execution_count": 40,
     "metadata": {},
     "output_type": "execute_result"
    }
   ],
   "source": [
    "df_ = pd.read_parquet('test.parquet')\n",
    "df_"
   ]
  },
  {
   "cell_type": "markdown",
   "id": "4dacc8bc",
   "metadata": {},
   "source": [
    "# Duplicated?"
   ]
  },
  {
   "cell_type": "code",
   "execution_count": 41,
   "id": "b59541a5",
   "metadata": {},
   "outputs": [
    {
     "data": {
      "text/plain": [
       "12100"
      ]
     },
     "execution_count": 41,
     "metadata": {},
     "output_type": "execute_result"
    }
   ],
   "source": [
    "df_.duplicated().sum()"
   ]
  },
  {
   "cell_type": "code",
   "execution_count": 42,
   "id": "745c5aa0",
   "metadata": {},
   "outputs": [],
   "source": [
    "df_.drop_duplicates(inplace=True)"
   ]
  },
  {
   "cell_type": "code",
   "execution_count": 43,
   "id": "7c717695",
   "metadata": {},
   "outputs": [
    {
     "data": {
      "text/html": [
       "<div>\n",
       "<style scoped>\n",
       "    .dataframe tbody tr th:only-of-type {\n",
       "        vertical-align: middle;\n",
       "    }\n",
       "\n",
       "    .dataframe tbody tr th {\n",
       "        vertical-align: top;\n",
       "    }\n",
       "\n",
       "    .dataframe thead th {\n",
       "        text-align: right;\n",
       "    }\n",
       "</style>\n",
       "<table border=\"1\" class=\"dataframe\">\n",
       "  <thead>\n",
       "    <tr style=\"text-align: right;\">\n",
       "      <th></th>\n",
       "      <th>patient-uid</th>\n",
       "      <th>date</th>\n",
       "      <th>incident</th>\n",
       "    </tr>\n",
       "  </thead>\n",
       "  <tbody>\n",
       "    <tr>\n",
       "      <th>0</th>\n",
       "      <td>a0f9e8a9-1c7c-11ec-8d25-16262ee38c7f</td>\n",
       "      <td>2016-12-08</td>\n",
       "      <td>SYMPTOM_TYPE_0</td>\n",
       "    </tr>\n",
       "    <tr>\n",
       "      <th>1</th>\n",
       "      <td>a0f9e8a9-1c7c-11ec-8d25-16262ee38c7f</td>\n",
       "      <td>2018-10-17</td>\n",
       "      <td>DRUG_TYPE_0</td>\n",
       "    </tr>\n",
       "    <tr>\n",
       "      <th>2</th>\n",
       "      <td>a0f9e8a9-1c7c-11ec-8d25-16262ee38c7f</td>\n",
       "      <td>2017-12-01</td>\n",
       "      <td>DRUG_TYPE_2</td>\n",
       "    </tr>\n",
       "    <tr>\n",
       "      <th>3</th>\n",
       "      <td>a0f9e8a9-1c7c-11ec-8d25-16262ee38c7f</td>\n",
       "      <td>2018-12-05</td>\n",
       "      <td>DRUG_TYPE_1</td>\n",
       "    </tr>\n",
       "    <tr>\n",
       "      <th>4</th>\n",
       "      <td>a0f9e8a9-1c7c-11ec-8d25-16262ee38c7f</td>\n",
       "      <td>2017-11-04</td>\n",
       "      <td>SYMPTOM_TYPE_0</td>\n",
       "    </tr>\n",
       "    <tr>\n",
       "      <th>6</th>\n",
       "      <td>a0f9e8a9-1c7c-11ec-8d25-16262ee38c7f</td>\n",
       "      <td>2018-05-09</td>\n",
       "      <td>PRIMARY_DIAGNOSIS</td>\n",
       "    </tr>\n",
       "  </tbody>\n",
       "</table>\n",
       "</div>"
      ],
      "text/plain": [
       "                            patient-uid       date           incident\n",
       "0  a0f9e8a9-1c7c-11ec-8d25-16262ee38c7f 2016-12-08     SYMPTOM_TYPE_0\n",
       "1  a0f9e8a9-1c7c-11ec-8d25-16262ee38c7f 2018-10-17        DRUG_TYPE_0\n",
       "2  a0f9e8a9-1c7c-11ec-8d25-16262ee38c7f 2017-12-01        DRUG_TYPE_2\n",
       "3  a0f9e8a9-1c7c-11ec-8d25-16262ee38c7f 2018-12-05        DRUG_TYPE_1\n",
       "4  a0f9e8a9-1c7c-11ec-8d25-16262ee38c7f 2017-11-04     SYMPTOM_TYPE_0\n",
       "6  a0f9e8a9-1c7c-11ec-8d25-16262ee38c7f 2018-05-09  PRIMARY_DIAGNOSIS"
      ]
     },
     "execution_count": 43,
     "metadata": {},
     "output_type": "execute_result"
    }
   ],
   "source": [
    "df_.columns = df.columns.str.lower()\n",
    "df_.head(6)"
   ]
  },
  {
   "cell_type": "code",
   "execution_count": 44,
   "id": "ea4d83d2",
   "metadata": {},
   "outputs": [
    {
     "data": {
      "text/html": [
       "<div>\n",
       "<style scoped>\n",
       "    .dataframe tbody tr th:only-of-type {\n",
       "        vertical-align: middle;\n",
       "    }\n",
       "\n",
       "    .dataframe tbody tr th {\n",
       "        vertical-align: top;\n",
       "    }\n",
       "\n",
       "    .dataframe thead th {\n",
       "        text-align: right;\n",
       "    }\n",
       "</style>\n",
       "<table border=\"1\" class=\"dataframe\">\n",
       "  <thead>\n",
       "    <tr style=\"text-align: right;\">\n",
       "      <th></th>\n",
       "      <th>patient-uid</th>\n",
       "      <th>date</th>\n",
       "      <th>incident</th>\n",
       "    </tr>\n",
       "  </thead>\n",
       "  <tbody>\n",
       "  </tbody>\n",
       "</table>\n",
       "</div>"
      ],
      "text/plain": [
       "Empty DataFrame\n",
       "Columns: [patient-uid, date, incident]\n",
       "Index: []"
      ]
     },
     "execution_count": 44,
     "metadata": {},
     "output_type": "execute_result"
    }
   ],
   "source": [
    "td_positive_df = df_[df_['incident']=='TARGET DRUG']\n",
    "td_positive_df.head()"
   ]
  },
  {
   "cell_type": "code",
   "execution_count": 45,
   "id": "cfcfc9eb",
   "metadata": {},
   "outputs": [
    {
     "data": {
      "text/html": [
       "<div>\n",
       "<style scoped>\n",
       "    .dataframe tbody tr th:only-of-type {\n",
       "        vertical-align: middle;\n",
       "    }\n",
       "\n",
       "    .dataframe tbody tr th {\n",
       "        vertical-align: top;\n",
       "    }\n",
       "\n",
       "    .dataframe thead th {\n",
       "        text-align: right;\n",
       "    }\n",
       "</style>\n",
       "<table border=\"1\" class=\"dataframe\">\n",
       "  <thead>\n",
       "    <tr style=\"text-align: right;\">\n",
       "      <th></th>\n",
       "      <th>patient-uid</th>\n",
       "      <th>date</th>\n",
       "      <th>incident</th>\n",
       "    </tr>\n",
       "  </thead>\n",
       "  <tbody>\n",
       "    <tr>\n",
       "      <th>57</th>\n",
       "      <td>a0f9e8a9-1c7c-11ec-8d25-16262ee38c7f</td>\n",
       "      <td>2017-12-01</td>\n",
       "      <td>TEST_TYPE_0</td>\n",
       "    </tr>\n",
       "    <tr>\n",
       "      <th>208</th>\n",
       "      <td>a0f9e9f9-1c7c-11ec-b565-16262ee38c7f</td>\n",
       "      <td>2016-06-22</td>\n",
       "      <td>DRUG_TYPE_9</td>\n",
       "    </tr>\n",
       "    <tr>\n",
       "      <th>305</th>\n",
       "      <td>a0f9ea43-1c7c-11ec-aa10-16262ee38c7f</td>\n",
       "      <td>2019-07-21</td>\n",
       "      <td>DRUG_TYPE_6</td>\n",
       "    </tr>\n",
       "    <tr>\n",
       "      <th>420</th>\n",
       "      <td>a0f9ea7c-1c7c-11ec-af15-16262ee38c7f</td>\n",
       "      <td>2016-06-15</td>\n",
       "      <td>DRUG_TYPE_6</td>\n",
       "    </tr>\n",
       "    <tr>\n",
       "      <th>497</th>\n",
       "      <td>a0f9eab1-1c7c-11ec-a732-16262ee38c7f</td>\n",
       "      <td>2018-11-22</td>\n",
       "      <td>DRUG_TYPE_6</td>\n",
       "    </tr>\n",
       "    <tr>\n",
       "      <th>...</th>\n",
       "      <td>...</td>\n",
       "      <td>...</td>\n",
       "      <td>...</td>\n",
       "    </tr>\n",
       "    <tr>\n",
       "      <th>1372381</th>\n",
       "      <td>a102720c-1c7c-11ec-bd9a-16262ee38c7f</td>\n",
       "      <td>2020-01-07</td>\n",
       "      <td>DRUG_TYPE_6</td>\n",
       "    </tr>\n",
       "    <tr>\n",
       "      <th>1372432</th>\n",
       "      <td>a102723c-1c7c-11ec-9f80-16262ee38c7f</td>\n",
       "      <td>2019-07-06</td>\n",
       "      <td>DRUG_TYPE_3</td>\n",
       "    </tr>\n",
       "    <tr>\n",
       "      <th>1372543</th>\n",
       "      <td>a102726b-1c7c-11ec-bfbf-16262ee38c7f</td>\n",
       "      <td>2018-12-31</td>\n",
       "      <td>DRUG_TYPE_0</td>\n",
       "    </tr>\n",
       "    <tr>\n",
       "      <th>1372607</th>\n",
       "      <td>a102729b-1c7c-11ec-86ba-16262ee38c7f</td>\n",
       "      <td>2019-04-02</td>\n",
       "      <td>DRUG_TYPE_3</td>\n",
       "    </tr>\n",
       "    <tr>\n",
       "      <th>1372859</th>\n",
       "      <td>a10272c9-1c7c-11ec-b3ce-16262ee38c7f</td>\n",
       "      <td>2017-05-19</td>\n",
       "      <td>DRUG_TYPE_7</td>\n",
       "    </tr>\n",
       "  </tbody>\n",
       "</table>\n",
       "<p>11482 rows × 3 columns</p>\n",
       "</div>"
      ],
      "text/plain": [
       "                                  patient-uid       date     incident\n",
       "57       a0f9e8a9-1c7c-11ec-8d25-16262ee38c7f 2017-12-01  TEST_TYPE_0\n",
       "208      a0f9e9f9-1c7c-11ec-b565-16262ee38c7f 2016-06-22  DRUG_TYPE_9\n",
       "305      a0f9ea43-1c7c-11ec-aa10-16262ee38c7f 2019-07-21  DRUG_TYPE_6\n",
       "420      a0f9ea7c-1c7c-11ec-af15-16262ee38c7f 2016-06-15  DRUG_TYPE_6\n",
       "497      a0f9eab1-1c7c-11ec-a732-16262ee38c7f 2018-11-22  DRUG_TYPE_6\n",
       "...                                       ...        ...          ...\n",
       "1372381  a102720c-1c7c-11ec-bd9a-16262ee38c7f 2020-01-07  DRUG_TYPE_6\n",
       "1372432  a102723c-1c7c-11ec-9f80-16262ee38c7f 2019-07-06  DRUG_TYPE_3\n",
       "1372543  a102726b-1c7c-11ec-bfbf-16262ee38c7f 2018-12-31  DRUG_TYPE_0\n",
       "1372607  a102729b-1c7c-11ec-86ba-16262ee38c7f 2019-04-02  DRUG_TYPE_3\n",
       "1372859  a10272c9-1c7c-11ec-b3ce-16262ee38c7f 2017-05-19  DRUG_TYPE_7\n",
       "\n",
       "[11482 rows x 3 columns]"
      ]
     },
     "execution_count": 45,
     "metadata": {},
     "output_type": "execute_result"
    }
   ],
   "source": [
    "td_negative = df_[~df_['patient-uid'].isin(td_positive_df['patient-uid'])]\n",
    "td_negative_df = td_negative.groupby('patient-uid').tail(1)\n",
    "td_negative_df"
   ]
  },
  {
   "cell_type": "code",
   "execution_count": 46,
   "id": "2af3cd62",
   "metadata": {},
   "outputs": [],
   "source": [
    "#To get the prev prescription took by patients with time interval\n",
    "td_positive_df['prescription_count'] = td_positive_df.groupby('patient-uid')['date'].cumcount()\n",
    "td_negative_df['prescription_count'] = td_negative_df.groupby('patient-uid')['date'].cumcount()"
   ]
  },
  {
   "cell_type": "code",
   "execution_count": 47,
   "id": "184c1e2e",
   "metadata": {},
   "outputs": [],
   "source": [
    "#calculate the time_interval in days between 30 days from the current date and the maximum date for each patient in two different DataFrames\n",
    "pred_date = pd.to_datetime('today') + pd.DateOffset(days=30)\n",
    "td_positive_df['time_interval'] = (pred_date - td_positive_df.groupby('patient-uid')['date'].transform('max')).dt.days\n",
    "td_negative_df['time_interval'] = (pred_date - td_negative_df.groupby('patient-uid')['date'].transform('max')).dt.days"
   ]
  },
  {
   "cell_type": "code",
   "execution_count": 48,
   "id": "f2e99b5f",
   "metadata": {},
   "outputs": [
    {
     "data": {
      "text/html": [
       "<div>\n",
       "<style scoped>\n",
       "    .dataframe tbody tr th:only-of-type {\n",
       "        vertical-align: middle;\n",
       "    }\n",
       "\n",
       "    .dataframe tbody tr th {\n",
       "        vertical-align: top;\n",
       "    }\n",
       "\n",
       "    .dataframe thead th {\n",
       "        text-align: right;\n",
       "    }\n",
       "</style>\n",
       "<table border=\"1\" class=\"dataframe\">\n",
       "  <thead>\n",
       "    <tr style=\"text-align: right;\">\n",
       "      <th></th>\n",
       "      <th>patient-uid</th>\n",
       "      <th>date</th>\n",
       "      <th>incident</th>\n",
       "      <th>prescription_count</th>\n",
       "      <th>time_interval</th>\n",
       "    </tr>\n",
       "  </thead>\n",
       "  <tbody>\n",
       "    <tr>\n",
       "      <th>57</th>\n",
       "      <td>a0f9e8a9-1c7c-11ec-8d25-16262ee38c7f</td>\n",
       "      <td>2017-12-01</td>\n",
       "      <td>TEST_TYPE_0</td>\n",
       "      <td>0</td>\n",
       "      <td>2183</td>\n",
       "    </tr>\n",
       "    <tr>\n",
       "      <th>208</th>\n",
       "      <td>a0f9e9f9-1c7c-11ec-b565-16262ee38c7f</td>\n",
       "      <td>2016-06-22</td>\n",
       "      <td>DRUG_TYPE_9</td>\n",
       "      <td>0</td>\n",
       "      <td>2710</td>\n",
       "    </tr>\n",
       "    <tr>\n",
       "      <th>305</th>\n",
       "      <td>a0f9ea43-1c7c-11ec-aa10-16262ee38c7f</td>\n",
       "      <td>2019-07-21</td>\n",
       "      <td>DRUG_TYPE_6</td>\n",
       "      <td>0</td>\n",
       "      <td>1586</td>\n",
       "    </tr>\n",
       "    <tr>\n",
       "      <th>420</th>\n",
       "      <td>a0f9ea7c-1c7c-11ec-af15-16262ee38c7f</td>\n",
       "      <td>2016-06-15</td>\n",
       "      <td>DRUG_TYPE_6</td>\n",
       "      <td>0</td>\n",
       "      <td>2717</td>\n",
       "    </tr>\n",
       "    <tr>\n",
       "      <th>497</th>\n",
       "      <td>a0f9eab1-1c7c-11ec-a732-16262ee38c7f</td>\n",
       "      <td>2018-11-22</td>\n",
       "      <td>DRUG_TYPE_6</td>\n",
       "      <td>0</td>\n",
       "      <td>1827</td>\n",
       "    </tr>\n",
       "  </tbody>\n",
       "</table>\n",
       "</div>"
      ],
      "text/plain": [
       "                              patient-uid       date     incident  \\\n",
       "57   a0f9e8a9-1c7c-11ec-8d25-16262ee38c7f 2017-12-01  TEST_TYPE_0   \n",
       "208  a0f9e9f9-1c7c-11ec-b565-16262ee38c7f 2016-06-22  DRUG_TYPE_9   \n",
       "305  a0f9ea43-1c7c-11ec-aa10-16262ee38c7f 2019-07-21  DRUG_TYPE_6   \n",
       "420  a0f9ea7c-1c7c-11ec-af15-16262ee38c7f 2016-06-15  DRUG_TYPE_6   \n",
       "497  a0f9eab1-1c7c-11ec-a732-16262ee38c7f 2018-11-22  DRUG_TYPE_6   \n",
       "\n",
       "     prescription_count  time_interval  \n",
       "57                    0           2183  \n",
       "208                   0           2710  \n",
       "305                   0           1586  \n",
       "420                   0           2717  \n",
       "497                   0           1827  "
      ]
     },
     "execution_count": 48,
     "metadata": {},
     "output_type": "execute_result"
    }
   ],
   "source": [
    "td_negative_df.head()"
   ]
  },
  {
   "cell_type": "code",
   "execution_count": 49,
   "id": "01dc6531",
   "metadata": {
    "scrolled": true
   },
   "outputs": [
    {
     "data": {
      "text/html": [
       "<div>\n",
       "<style scoped>\n",
       "    .dataframe tbody tr th:only-of-type {\n",
       "        vertical-align: middle;\n",
       "    }\n",
       "\n",
       "    .dataframe tbody tr th {\n",
       "        vertical-align: top;\n",
       "    }\n",
       "\n",
       "    .dataframe thead th {\n",
       "        text-align: right;\n",
       "    }\n",
       "</style>\n",
       "<table border=\"1\" class=\"dataframe\">\n",
       "  <thead>\n",
       "    <tr style=\"text-align: right;\">\n",
       "      <th></th>\n",
       "      <th>patient-uid</th>\n",
       "      <th>date</th>\n",
       "      <th>incident</th>\n",
       "      <th>prescription_count</th>\n",
       "      <th>time_interval</th>\n",
       "    </tr>\n",
       "  </thead>\n",
       "  <tbody>\n",
       "    <tr>\n",
       "      <th>57</th>\n",
       "      <td>a0f9e8a9-1c7c-11ec-8d25-16262ee38c7f</td>\n",
       "      <td>2017-12-01</td>\n",
       "      <td>TEST_TYPE_0</td>\n",
       "      <td>0</td>\n",
       "      <td>2183</td>\n",
       "    </tr>\n",
       "    <tr>\n",
       "      <th>208</th>\n",
       "      <td>a0f9e9f9-1c7c-11ec-b565-16262ee38c7f</td>\n",
       "      <td>2016-06-22</td>\n",
       "      <td>DRUG_TYPE_9</td>\n",
       "      <td>0</td>\n",
       "      <td>2710</td>\n",
       "    </tr>\n",
       "    <tr>\n",
       "      <th>305</th>\n",
       "      <td>a0f9ea43-1c7c-11ec-aa10-16262ee38c7f</td>\n",
       "      <td>2019-07-21</td>\n",
       "      <td>DRUG_TYPE_6</td>\n",
       "      <td>0</td>\n",
       "      <td>1586</td>\n",
       "    </tr>\n",
       "    <tr>\n",
       "      <th>420</th>\n",
       "      <td>a0f9ea7c-1c7c-11ec-af15-16262ee38c7f</td>\n",
       "      <td>2016-06-15</td>\n",
       "      <td>DRUG_TYPE_6</td>\n",
       "      <td>0</td>\n",
       "      <td>2717</td>\n",
       "    </tr>\n",
       "    <tr>\n",
       "      <th>497</th>\n",
       "      <td>a0f9eab1-1c7c-11ec-a732-16262ee38c7f</td>\n",
       "      <td>2018-11-22</td>\n",
       "      <td>DRUG_TYPE_6</td>\n",
       "      <td>0</td>\n",
       "      <td>1827</td>\n",
       "    </tr>\n",
       "    <tr>\n",
       "      <th>...</th>\n",
       "      <td>...</td>\n",
       "      <td>...</td>\n",
       "      <td>...</td>\n",
       "      <td>...</td>\n",
       "      <td>...</td>\n",
       "    </tr>\n",
       "    <tr>\n",
       "      <th>1372381</th>\n",
       "      <td>a102720c-1c7c-11ec-bd9a-16262ee38c7f</td>\n",
       "      <td>2020-01-07</td>\n",
       "      <td>DRUG_TYPE_6</td>\n",
       "      <td>0</td>\n",
       "      <td>1416</td>\n",
       "    </tr>\n",
       "    <tr>\n",
       "      <th>1372432</th>\n",
       "      <td>a102723c-1c7c-11ec-9f80-16262ee38c7f</td>\n",
       "      <td>2019-07-06</td>\n",
       "      <td>DRUG_TYPE_3</td>\n",
       "      <td>0</td>\n",
       "      <td>1601</td>\n",
       "    </tr>\n",
       "    <tr>\n",
       "      <th>1372543</th>\n",
       "      <td>a102726b-1c7c-11ec-bfbf-16262ee38c7f</td>\n",
       "      <td>2018-12-31</td>\n",
       "      <td>DRUG_TYPE_0</td>\n",
       "      <td>0</td>\n",
       "      <td>1788</td>\n",
       "    </tr>\n",
       "    <tr>\n",
       "      <th>1372607</th>\n",
       "      <td>a102729b-1c7c-11ec-86ba-16262ee38c7f</td>\n",
       "      <td>2019-04-02</td>\n",
       "      <td>DRUG_TYPE_3</td>\n",
       "      <td>0</td>\n",
       "      <td>1696</td>\n",
       "    </tr>\n",
       "    <tr>\n",
       "      <th>1372859</th>\n",
       "      <td>a10272c9-1c7c-11ec-b3ce-16262ee38c7f</td>\n",
       "      <td>2017-05-19</td>\n",
       "      <td>DRUG_TYPE_7</td>\n",
       "      <td>0</td>\n",
       "      <td>2379</td>\n",
       "    </tr>\n",
       "  </tbody>\n",
       "</table>\n",
       "<p>11482 rows × 5 columns</p>\n",
       "</div>"
      ],
      "text/plain": [
       "                                  patient-uid       date     incident  \\\n",
       "57       a0f9e8a9-1c7c-11ec-8d25-16262ee38c7f 2017-12-01  TEST_TYPE_0   \n",
       "208      a0f9e9f9-1c7c-11ec-b565-16262ee38c7f 2016-06-22  DRUG_TYPE_9   \n",
       "305      a0f9ea43-1c7c-11ec-aa10-16262ee38c7f 2019-07-21  DRUG_TYPE_6   \n",
       "420      a0f9ea7c-1c7c-11ec-af15-16262ee38c7f 2016-06-15  DRUG_TYPE_6   \n",
       "497      a0f9eab1-1c7c-11ec-a732-16262ee38c7f 2018-11-22  DRUG_TYPE_6   \n",
       "...                                       ...        ...          ...   \n",
       "1372381  a102720c-1c7c-11ec-bd9a-16262ee38c7f 2020-01-07  DRUG_TYPE_6   \n",
       "1372432  a102723c-1c7c-11ec-9f80-16262ee38c7f 2019-07-06  DRUG_TYPE_3   \n",
       "1372543  a102726b-1c7c-11ec-bfbf-16262ee38c7f 2018-12-31  DRUG_TYPE_0   \n",
       "1372607  a102729b-1c7c-11ec-86ba-16262ee38c7f 2019-04-02  DRUG_TYPE_3   \n",
       "1372859  a10272c9-1c7c-11ec-b3ce-16262ee38c7f 2017-05-19  DRUG_TYPE_7   \n",
       "\n",
       "         prescription_count  time_interval  \n",
       "57                        0           2183  \n",
       "208                       0           2710  \n",
       "305                       0           1586  \n",
       "420                       0           2717  \n",
       "497                       0           1827  \n",
       "...                     ...            ...  \n",
       "1372381                   0           1416  \n",
       "1372432                   0           1601  \n",
       "1372543                   0           1788  \n",
       "1372607                   0           1696  \n",
       "1372859                   0           2379  \n",
       "\n",
       "[11482 rows x 5 columns]"
      ]
     },
     "execution_count": 49,
     "metadata": {},
     "output_type": "execute_result"
    }
   ],
   "source": [
    "Df_ = pd.concat([td_positive_df,td_negative_df])\n",
    "Df_"
   ]
  },
  {
   "cell_type": "code",
   "execution_count": 50,
   "id": "3e05ea2c",
   "metadata": {},
   "outputs": [
    {
     "data": {
      "text/html": [
       "<div>\n",
       "<style scoped>\n",
       "    .dataframe tbody tr th:only-of-type {\n",
       "        vertical-align: middle;\n",
       "    }\n",
       "\n",
       "    .dataframe tbody tr th {\n",
       "        vertical-align: top;\n",
       "    }\n",
       "\n",
       "    .dataframe thead th {\n",
       "        text-align: right;\n",
       "    }\n",
       "</style>\n",
       "<table border=\"1\" class=\"dataframe\">\n",
       "  <thead>\n",
       "    <tr style=\"text-align: right;\">\n",
       "      <th></th>\n",
       "      <th>patient-uid</th>\n",
       "      <th>date</th>\n",
       "      <th>incident</th>\n",
       "    </tr>\n",
       "  </thead>\n",
       "  <tbody>\n",
       "    <tr>\n",
       "      <th>0</th>\n",
       "      <td>a0f9e8a9-1c7c-11ec-8d25-16262ee38c7f</td>\n",
       "      <td>2016-12-08</td>\n",
       "      <td>SYMPTOM_TYPE_0</td>\n",
       "    </tr>\n",
       "    <tr>\n",
       "      <th>1</th>\n",
       "      <td>a0f9e8a9-1c7c-11ec-8d25-16262ee38c7f</td>\n",
       "      <td>2018-10-17</td>\n",
       "      <td>DRUG_TYPE_0</td>\n",
       "    </tr>\n",
       "    <tr>\n",
       "      <th>2</th>\n",
       "      <td>a0f9e8a9-1c7c-11ec-8d25-16262ee38c7f</td>\n",
       "      <td>2017-12-01</td>\n",
       "      <td>DRUG_TYPE_2</td>\n",
       "    </tr>\n",
       "    <tr>\n",
       "      <th>3</th>\n",
       "      <td>a0f9e8a9-1c7c-11ec-8d25-16262ee38c7f</td>\n",
       "      <td>2018-12-05</td>\n",
       "      <td>DRUG_TYPE_1</td>\n",
       "    </tr>\n",
       "    <tr>\n",
       "      <th>4</th>\n",
       "      <td>a0f9e8a9-1c7c-11ec-8d25-16262ee38c7f</td>\n",
       "      <td>2017-11-04</td>\n",
       "      <td>SYMPTOM_TYPE_0</td>\n",
       "    </tr>\n",
       "    <tr>\n",
       "      <th>...</th>\n",
       "      <td>...</td>\n",
       "      <td>...</td>\n",
       "      <td>...</td>\n",
       "    </tr>\n",
       "    <tr>\n",
       "      <th>1372854</th>\n",
       "      <td>a10272c9-1c7c-11ec-b3ce-16262ee38c7f</td>\n",
       "      <td>2017-05-11</td>\n",
       "      <td>DRUG_TYPE_13</td>\n",
       "    </tr>\n",
       "    <tr>\n",
       "      <th>1372856</th>\n",
       "      <td>a10272c9-1c7c-11ec-b3ce-16262ee38c7f</td>\n",
       "      <td>2018-08-22</td>\n",
       "      <td>DRUG_TYPE_2</td>\n",
       "    </tr>\n",
       "    <tr>\n",
       "      <th>1372857</th>\n",
       "      <td>a10272c9-1c7c-11ec-b3ce-16262ee38c7f</td>\n",
       "      <td>2017-02-04</td>\n",
       "      <td>DRUG_TYPE_2</td>\n",
       "    </tr>\n",
       "    <tr>\n",
       "      <th>1372858</th>\n",
       "      <td>a10272c9-1c7c-11ec-b3ce-16262ee38c7f</td>\n",
       "      <td>2017-09-25</td>\n",
       "      <td>DRUG_TYPE_8</td>\n",
       "    </tr>\n",
       "    <tr>\n",
       "      <th>1372859</th>\n",
       "      <td>a10272c9-1c7c-11ec-b3ce-16262ee38c7f</td>\n",
       "      <td>2017-05-19</td>\n",
       "      <td>DRUG_TYPE_7</td>\n",
       "    </tr>\n",
       "  </tbody>\n",
       "</table>\n",
       "<p>1053424 rows × 3 columns</p>\n",
       "</div>"
      ],
      "text/plain": [
       "                                  patient-uid       date        incident\n",
       "0        a0f9e8a9-1c7c-11ec-8d25-16262ee38c7f 2016-12-08  SYMPTOM_TYPE_0\n",
       "1        a0f9e8a9-1c7c-11ec-8d25-16262ee38c7f 2018-10-17     DRUG_TYPE_0\n",
       "2        a0f9e8a9-1c7c-11ec-8d25-16262ee38c7f 2017-12-01     DRUG_TYPE_2\n",
       "3        a0f9e8a9-1c7c-11ec-8d25-16262ee38c7f 2018-12-05     DRUG_TYPE_1\n",
       "4        a0f9e8a9-1c7c-11ec-8d25-16262ee38c7f 2017-11-04  SYMPTOM_TYPE_0\n",
       "...                                       ...        ...             ...\n",
       "1372854  a10272c9-1c7c-11ec-b3ce-16262ee38c7f 2017-05-11    DRUG_TYPE_13\n",
       "1372856  a10272c9-1c7c-11ec-b3ce-16262ee38c7f 2018-08-22     DRUG_TYPE_2\n",
       "1372857  a10272c9-1c7c-11ec-b3ce-16262ee38c7f 2017-02-04     DRUG_TYPE_2\n",
       "1372858  a10272c9-1c7c-11ec-b3ce-16262ee38c7f 2017-09-25     DRUG_TYPE_8\n",
       "1372859  a10272c9-1c7c-11ec-b3ce-16262ee38c7f 2017-05-19     DRUG_TYPE_7\n",
       "\n",
       "[1053424 rows x 3 columns]"
      ]
     },
     "execution_count": 50,
     "metadata": {},
     "output_type": "execute_result"
    }
   ],
   "source": [
    "df_"
   ]
  },
  {
   "cell_type": "code",
   "execution_count": 51,
   "id": "f70817be",
   "metadata": {},
   "outputs": [],
   "source": [
    "df_['prescription_count'] = df_.groupby('patient-uid')['date'].cumcount()\n",
    "df_['time_interval'] = (pred_date - df_.groupby('patient-uid')['date'].transform(max)).dt.days"
   ]
  },
  {
   "cell_type": "code",
   "execution_count": 52,
   "id": "19d329d1",
   "metadata": {},
   "outputs": [
    {
     "data": {
      "text/html": [
       "<div>\n",
       "<style scoped>\n",
       "    .dataframe tbody tr th:only-of-type {\n",
       "        vertical-align: middle;\n",
       "    }\n",
       "\n",
       "    .dataframe tbody tr th {\n",
       "        vertical-align: top;\n",
       "    }\n",
       "\n",
       "    .dataframe thead th {\n",
       "        text-align: right;\n",
       "    }\n",
       "</style>\n",
       "<table border=\"1\" class=\"dataframe\">\n",
       "  <thead>\n",
       "    <tr style=\"text-align: right;\">\n",
       "      <th></th>\n",
       "      <th>patient-uid</th>\n",
       "      <th>date</th>\n",
       "      <th>incident</th>\n",
       "      <th>prescription_count</th>\n",
       "      <th>time_interval</th>\n",
       "    </tr>\n",
       "  </thead>\n",
       "  <tbody>\n",
       "    <tr>\n",
       "      <th>0</th>\n",
       "      <td>a0f9e8a9-1c7c-11ec-8d25-16262ee38c7f</td>\n",
       "      <td>2016-12-08</td>\n",
       "      <td>SYMPTOM_TYPE_0</td>\n",
       "      <td>0</td>\n",
       "      <td>1647</td>\n",
       "    </tr>\n",
       "    <tr>\n",
       "      <th>1</th>\n",
       "      <td>a0f9e8a9-1c7c-11ec-8d25-16262ee38c7f</td>\n",
       "      <td>2018-10-17</td>\n",
       "      <td>DRUG_TYPE_0</td>\n",
       "      <td>1</td>\n",
       "      <td>1647</td>\n",
       "    </tr>\n",
       "    <tr>\n",
       "      <th>2</th>\n",
       "      <td>a0f9e8a9-1c7c-11ec-8d25-16262ee38c7f</td>\n",
       "      <td>2017-12-01</td>\n",
       "      <td>DRUG_TYPE_2</td>\n",
       "      <td>2</td>\n",
       "      <td>1647</td>\n",
       "    </tr>\n",
       "    <tr>\n",
       "      <th>3</th>\n",
       "      <td>a0f9e8a9-1c7c-11ec-8d25-16262ee38c7f</td>\n",
       "      <td>2018-12-05</td>\n",
       "      <td>DRUG_TYPE_1</td>\n",
       "      <td>3</td>\n",
       "      <td>1647</td>\n",
       "    </tr>\n",
       "    <tr>\n",
       "      <th>4</th>\n",
       "      <td>a0f9e8a9-1c7c-11ec-8d25-16262ee38c7f</td>\n",
       "      <td>2017-11-04</td>\n",
       "      <td>SYMPTOM_TYPE_0</td>\n",
       "      <td>4</td>\n",
       "      <td>1647</td>\n",
       "    </tr>\n",
       "    <tr>\n",
       "      <th>...</th>\n",
       "      <td>...</td>\n",
       "      <td>...</td>\n",
       "      <td>...</td>\n",
       "      <td>...</td>\n",
       "      <td>...</td>\n",
       "    </tr>\n",
       "    <tr>\n",
       "      <th>1372854</th>\n",
       "      <td>a10272c9-1c7c-11ec-b3ce-16262ee38c7f</td>\n",
       "      <td>2017-05-11</td>\n",
       "      <td>DRUG_TYPE_13</td>\n",
       "      <td>170</td>\n",
       "      <td>1723</td>\n",
       "    </tr>\n",
       "    <tr>\n",
       "      <th>1372856</th>\n",
       "      <td>a10272c9-1c7c-11ec-b3ce-16262ee38c7f</td>\n",
       "      <td>2018-08-22</td>\n",
       "      <td>DRUG_TYPE_2</td>\n",
       "      <td>171</td>\n",
       "      <td>1723</td>\n",
       "    </tr>\n",
       "    <tr>\n",
       "      <th>1372857</th>\n",
       "      <td>a10272c9-1c7c-11ec-b3ce-16262ee38c7f</td>\n",
       "      <td>2017-02-04</td>\n",
       "      <td>DRUG_TYPE_2</td>\n",
       "      <td>172</td>\n",
       "      <td>1723</td>\n",
       "    </tr>\n",
       "    <tr>\n",
       "      <th>1372858</th>\n",
       "      <td>a10272c9-1c7c-11ec-b3ce-16262ee38c7f</td>\n",
       "      <td>2017-09-25</td>\n",
       "      <td>DRUG_TYPE_8</td>\n",
       "      <td>173</td>\n",
       "      <td>1723</td>\n",
       "    </tr>\n",
       "    <tr>\n",
       "      <th>1372859</th>\n",
       "      <td>a10272c9-1c7c-11ec-b3ce-16262ee38c7f</td>\n",
       "      <td>2017-05-19</td>\n",
       "      <td>DRUG_TYPE_7</td>\n",
       "      <td>174</td>\n",
       "      <td>1723</td>\n",
       "    </tr>\n",
       "  </tbody>\n",
       "</table>\n",
       "<p>1053424 rows × 5 columns</p>\n",
       "</div>"
      ],
      "text/plain": [
       "                                  patient-uid       date        incident  \\\n",
       "0        a0f9e8a9-1c7c-11ec-8d25-16262ee38c7f 2016-12-08  SYMPTOM_TYPE_0   \n",
       "1        a0f9e8a9-1c7c-11ec-8d25-16262ee38c7f 2018-10-17     DRUG_TYPE_0   \n",
       "2        a0f9e8a9-1c7c-11ec-8d25-16262ee38c7f 2017-12-01     DRUG_TYPE_2   \n",
       "3        a0f9e8a9-1c7c-11ec-8d25-16262ee38c7f 2018-12-05     DRUG_TYPE_1   \n",
       "4        a0f9e8a9-1c7c-11ec-8d25-16262ee38c7f 2017-11-04  SYMPTOM_TYPE_0   \n",
       "...                                       ...        ...             ...   \n",
       "1372854  a10272c9-1c7c-11ec-b3ce-16262ee38c7f 2017-05-11    DRUG_TYPE_13   \n",
       "1372856  a10272c9-1c7c-11ec-b3ce-16262ee38c7f 2018-08-22     DRUG_TYPE_2   \n",
       "1372857  a10272c9-1c7c-11ec-b3ce-16262ee38c7f 2017-02-04     DRUG_TYPE_2   \n",
       "1372858  a10272c9-1c7c-11ec-b3ce-16262ee38c7f 2017-09-25     DRUG_TYPE_8   \n",
       "1372859  a10272c9-1c7c-11ec-b3ce-16262ee38c7f 2017-05-19     DRUG_TYPE_7   \n",
       "\n",
       "         prescription_count  time_interval  \n",
       "0                         0           1647  \n",
       "1                         1           1647  \n",
       "2                         2           1647  \n",
       "3                         3           1647  \n",
       "4                         4           1647  \n",
       "...                     ...            ...  \n",
       "1372854                 170           1723  \n",
       "1372856                 171           1723  \n",
       "1372857                 172           1723  \n",
       "1372858                 173           1723  \n",
       "1372859                 174           1723  \n",
       "\n",
       "[1053424 rows x 5 columns]"
      ]
     },
     "execution_count": 52,
     "metadata": {},
     "output_type": "execute_result"
    }
   ],
   "source": [
    "df_"
   ]
  },
  {
   "cell_type": "code",
   "execution_count": 53,
   "id": "7600b5e4",
   "metadata": {},
   "outputs": [
    {
     "data": {
      "text/plain": [
       "array([0, 1, 1, ..., 1, 1, 1])"
      ]
     },
     "execution_count": 53,
     "metadata": {},
     "output_type": "execute_result"
    }
   ],
   "source": [
    "df_pred = xgb_classifier.predict(df_[['prescription_count', 'time_interval']])\n",
    "df_pred"
   ]
  },
  {
   "cell_type": "code",
   "execution_count": 54,
   "id": "1dec7b68",
   "metadata": {},
   "outputs": [],
   "source": [
    "result = pd.DataFrame({'patient-uid':df_['patient-uid'],'prediction_result':df_pred})"
   ]
  },
  {
   "cell_type": "code",
   "execution_count": 55,
   "id": "668a0192",
   "metadata": {},
   "outputs": [
    {
     "data": {
      "text/html": [
       "<div>\n",
       "<style scoped>\n",
       "    .dataframe tbody tr th:only-of-type {\n",
       "        vertical-align: middle;\n",
       "    }\n",
       "\n",
       "    .dataframe tbody tr th {\n",
       "        vertical-align: top;\n",
       "    }\n",
       "\n",
       "    .dataframe thead th {\n",
       "        text-align: right;\n",
       "    }\n",
       "</style>\n",
       "<table border=\"1\" class=\"dataframe\">\n",
       "  <thead>\n",
       "    <tr style=\"text-align: right;\">\n",
       "      <th></th>\n",
       "      <th>patient-uid</th>\n",
       "      <th>prediction_result</th>\n",
       "    </tr>\n",
       "  </thead>\n",
       "  <tbody>\n",
       "    <tr>\n",
       "      <th>1372854</th>\n",
       "      <td>a10272c9-1c7c-11ec-b3ce-16262ee38c7f</td>\n",
       "      <td>1</td>\n",
       "    </tr>\n",
       "    <tr>\n",
       "      <th>1372856</th>\n",
       "      <td>a10272c9-1c7c-11ec-b3ce-16262ee38c7f</td>\n",
       "      <td>1</td>\n",
       "    </tr>\n",
       "    <tr>\n",
       "      <th>1372857</th>\n",
       "      <td>a10272c9-1c7c-11ec-b3ce-16262ee38c7f</td>\n",
       "      <td>1</td>\n",
       "    </tr>\n",
       "    <tr>\n",
       "      <th>1372858</th>\n",
       "      <td>a10272c9-1c7c-11ec-b3ce-16262ee38c7f</td>\n",
       "      <td>1</td>\n",
       "    </tr>\n",
       "    <tr>\n",
       "      <th>1372859</th>\n",
       "      <td>a10272c9-1c7c-11ec-b3ce-16262ee38c7f</td>\n",
       "      <td>1</td>\n",
       "    </tr>\n",
       "  </tbody>\n",
       "</table>\n",
       "</div>"
      ],
      "text/plain": [
       "                                  patient-uid  prediction_result\n",
       "1372854  a10272c9-1c7c-11ec-b3ce-16262ee38c7f                  1\n",
       "1372856  a10272c9-1c7c-11ec-b3ce-16262ee38c7f                  1\n",
       "1372857  a10272c9-1c7c-11ec-b3ce-16262ee38c7f                  1\n",
       "1372858  a10272c9-1c7c-11ec-b3ce-16262ee38c7f                  1\n",
       "1372859  a10272c9-1c7c-11ec-b3ce-16262ee38c7f                  1"
      ]
     },
     "execution_count": 55,
     "metadata": {},
     "output_type": "execute_result"
    }
   ],
   "source": [
    "result.tail()"
   ]
  },
  {
   "cell_type": "code",
   "execution_count": 56,
   "id": "a63822ce",
   "metadata": {},
   "outputs": [],
   "source": [
    "result.to_csv('final_submission.csv',index=False)"
   ]
  },
  {
   "cell_type": "code",
   "execution_count": null,
   "id": "8a2755d1",
   "metadata": {},
   "outputs": [],
   "source": []
  }
 ],
 "metadata": {
  "kernelspec": {
   "display_name": "Python 3 (ipykernel)",
   "language": "python",
   "name": "python3"
  },
  "language_info": {
   "codemirror_mode": {
    "name": "ipython",
    "version": 3
   },
   "file_extension": ".py",
   "mimetype": "text/x-python",
   "name": "python",
   "nbconvert_exporter": "python",
   "pygments_lexer": "ipython3",
   "version": "3.11.3"
  }
 },
 "nbformat": 4,
 "nbformat_minor": 5
}
