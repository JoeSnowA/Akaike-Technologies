{
  "nbformat": 4,
  "nbformat_minor": 0,
  "metadata": {
    "colab": {
      "provenance": []
    },
    "kernelspec": {
      "name": "python3",
      "display_name": "Python 3"
    },
    "language_info": {
      "name": "python"
    }
  },
  "cells": [
    {
      "cell_type": "code",
      "source": [
        "import spacy\n",
        "import random\n",
        "\n",
        "nlp = spacy.load(\"en_core_web_sm\")\n",
        "\n",
        "def generate_mca_question(context):\n",
        "    doc = nlp(context)\n",
        "    sentence = random.choice(list(doc.sents))\n",
        "    blank_word = random.choice([token for token in sentence if not token.is_punct])\n",
        "\n",
        "    question_text = sentence.text.replace(blank_word.text, \"______\")\n",
        "    correct_answers = [blank_word.text]\n",
        "\n",
        "    other_options = [token.text for token in doc if token.is_alpha and token.text != correct_answers[0]]\n",
        "    options = random.sample(other_options, 3) + correct_answers\n",
        "    random.shuffle(options)\n",
        "\n",
        "    question = {\n",
        "        \"question\": question_text,\n",
        "        \"options\": options,\n",
        "        \"correct_answers\": correct_answers\n",
        "    }\n",
        "\n",
        "    return question\n",
        "\n",
        "context = input(\"Enter the paragraph: \")\n",
        "num_questions = int(input(\"Enter the number of questions: \"))\n",
        "\n",
        "for i in range(num_questions):\n",
        "    question = generate_mca_question(context)\n",
        "    print(f\"Q{i+1}: {question['question']}\")\n",
        "    for j, option in enumerate(question['options'], 1):\n",
        "        print(f\"{j}. {option}\")\n",
        "    print(f\"Correct Option: {question['correct_answers'][0]}\\n\")\n"
      ],
      "metadata": {
        "colab": {
          "base_uri": "https://localhost:8080/"
        },
        "id": "8ogz_kUTvDTV",
        "outputId": "fdc52702-4fd6-42ec-c2a3-b86c0c207bcb"
      },
      "execution_count": 4,
      "outputs": [
        {
          "output_type": "stream",
          "name": "stdout",
          "text": [
            "Enter the paragraph: Photosynthesis is a process used by plants and other organisms to convert light energy into chemical energy that, through cellular respiration, can later be released to fuel the organism's activities. Some of this chemical energy is stored in carbohydrate molecules, such as sugars and starches, which are synthesized from carbon dioxide and water – hence the name photosynthesis, from the Greek phōs, \"light\", and synthesis , \"putting together\". Most plants, algae, and cyanobacteria perform photosynthesis; such organisms are called photoautotrophs. Photosynthesis is largely responsible for producing and maintaining the oxygen content of the Earth's atmosphere, and supplies most of the energy necessary for life on Earth.\n",
            "Enter the number of questions: 5\n",
            "Q1: Photosynthesis is a process used by plants ______ other organisms to convert light energy into chemical energy that, through cellular respiration, can later be released to fuel the organism's activities.\n",
            "1. organisms\n",
            "2. the\n",
            "3. used\n",
            "4. and\n",
            "Correct Option: and\n",
            "\n",
            "Q2: Most ______, algae, and cyanobacteria perform photosynthesis; such organisms are called photoautotrophs.\n",
            "1. the\n",
            "2. other\n",
            "3. Earth\n",
            "4. plants\n",
            "Correct Option: plants\n",
            "\n",
            "Q3: Most plants, algae, and cyanobacteria perform photosynthesis; such ______ are called photoautotrophs.\n",
            "1. synthesized\n",
            "2. organisms\n",
            "3. energy\n",
            "4. is\n",
            "Correct Option: organisms\n",
            "\n",
            "Q4: Photosynthesis is largely responsible for producing and maintaining the oxygen content ______ the Earth's atmosphere, and supplies most ______ the energy necessary for life on Earth.\n",
            "1. water\n",
            "2. plants\n",
            "3. of\n",
            "4. perform\n",
            "Correct Option: of\n",
            "\n",
            "Q5: Most plants, algae, ______ cyanobacteria perform photosynthesis; such organisms are called photoautotrophs.\n",
            "1. synthesis\n",
            "2. and\n",
            "3. Some\n",
            "4. fuel\n",
            "Correct Option: and\n",
            "\n"
          ]
        }
      ]
    }
  ]
}